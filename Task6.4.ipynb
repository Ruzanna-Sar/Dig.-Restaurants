{
 "cells": [
  {
   "cell_type": "markdown",
   "id": "0a4dc3cb",
   "metadata": {},
   "source": [
    "# 6.4 Supervised Machine Learning:Regression"
   ]
  },
  {
   "cell_type": "markdown",
   "id": "d5c55161",
   "metadata": {},
   "source": [
    "## Step 1 -3\n",
    "### Set up a Jupyter notebook with visualization and scikit-learn libraries, and import the cleaned data set you chose in the previous Exercise."
   ]
  },
  {
   "cell_type": "code",
   "execution_count": 26,
   "id": "50bc41b4",
   "metadata": {},
   "outputs": [],
   "source": [
    "# importing libraries\n",
    "import pandas as pd\n",
    "import numpy as np\n",
    "import seaborn as sns\n",
    "import matplotlib.pyplot as plt\n",
    "import matplotlib\n",
    "import os\n",
    "import sklearn\n",
    "from sklearn.model_selection import train_test_split \n",
    "from sklearn.linear_model import LinearRegression\n",
    "from sklearn.metrics import mean_squared_error, r2_score"
   ]
  },
  {
   "cell_type": "code",
   "execution_count": 27,
   "id": "c7b622b0",
   "metadata": {},
   "outputs": [],
   "source": [
    "path = r'C:\\Users\\RUZANNA\\OneDrive\\Desktop\\Careerfoundry\\Final Project'"
   ]
  },
  {
   "cell_type": "code",
   "execution_count": 28,
   "id": "81dc1705",
   "metadata": {},
   "outputs": [],
   "source": [
    "df_orders=pd.read_pickle(os.path.join(path, 'Data', 'Prepared Data', 'orders_6.2.pkl' ))"
   ]
  },
  {
   "cell_type": "code",
   "execution_count": 29,
   "id": "ae104c6a",
   "metadata": {
    "scrolled": false
   },
   "outputs": [
    {
     "data": {
      "text/html": [
       "<div>\n",
       "<style scoped>\n",
       "    .dataframe tbody tr th:only-of-type {\n",
       "        vertical-align: middle;\n",
       "    }\n",
       "\n",
       "    .dataframe tbody tr th {\n",
       "        vertical-align: top;\n",
       "    }\n",
       "\n",
       "    .dataframe thead th {\n",
       "        text-align: right;\n",
       "    }\n",
       "</style>\n",
       "<table border=\"1\" class=\"dataframe\">\n",
       "  <thead>\n",
       "    <tr style=\"text-align: right;\">\n",
       "      <th></th>\n",
       "      <th>ORDER_ID</th>\n",
       "      <th>DATETIME</th>\n",
       "      <th>RESTAURANT_ID</th>\n",
       "      <th>TYPE</th>\n",
       "      <th>DRINKS</th>\n",
       "      <th>COOKIES</th>\n",
       "      <th>MAIN</th>\n",
       "      <th>BASE</th>\n",
       "      <th>SIDE_1</th>\n",
       "      <th>SIDE_2</th>\n",
       "      <th>...</th>\n",
       "      <th>BASE_NAME</th>\n",
       "      <th>SIDE_1_NAME</th>\n",
       "      <th>SIDE_2_NAME</th>\n",
       "      <th>RESTAURANT_NAME</th>\n",
       "      <th>MAIN_NAME_CALORIS</th>\n",
       "      <th>BASE_NAME_CALORIS</th>\n",
       "      <th>SIDE_1_NAME_CALORIS</th>\n",
       "      <th>SIDE_2_NAME_CALORIS</th>\n",
       "      <th>TOTAL_CALORIS</th>\n",
       "      <th>CALORIES CATEGORY</th>\n",
       "    </tr>\n",
       "  </thead>\n",
       "  <tbody>\n",
       "    <tr>\n",
       "      <th>0</th>\n",
       "      <td>O2226026</td>\n",
       "      <td>2018-12-07 19:17:45</td>\n",
       "      <td>R10001</td>\n",
       "      <td>PICKUP</td>\n",
       "      <td>2.0</td>\n",
       "      <td>2.0</td>\n",
       "      <td>No main</td>\n",
       "      <td>No base</td>\n",
       "      <td>No side_1</td>\n",
       "      <td>No side_2</td>\n",
       "      <td>...</td>\n",
       "      <td>NaN</td>\n",
       "      <td>NaN</td>\n",
       "      <td>NaN</td>\n",
       "      <td>Columbia</td>\n",
       "      <td>NaN</td>\n",
       "      <td>NaN</td>\n",
       "      <td>NaN</td>\n",
       "      <td>NaN</td>\n",
       "      <td>NaN</td>\n",
       "      <td>NaN</td>\n",
       "    </tr>\n",
       "    <tr>\n",
       "      <th>1</th>\n",
       "      <td>O1279827</td>\n",
       "      <td>2018-07-14 21:23:43</td>\n",
       "      <td>R10006</td>\n",
       "      <td>IN_STORE</td>\n",
       "      <td>0.0</td>\n",
       "      <td>0.0</td>\n",
       "      <td>No main</td>\n",
       "      <td>No base</td>\n",
       "      <td>No side_1</td>\n",
       "      <td>No side_2</td>\n",
       "      <td>...</td>\n",
       "      <td>NaN</td>\n",
       "      <td>NaN</td>\n",
       "      <td>NaN</td>\n",
       "      <td>Upper East Side</td>\n",
       "      <td>NaN</td>\n",
       "      <td>NaN</td>\n",
       "      <td>NaN</td>\n",
       "      <td>NaN</td>\n",
       "      <td>NaN</td>\n",
       "      <td>NaN</td>\n",
       "    </tr>\n",
       "    <tr>\n",
       "      <th>2</th>\n",
       "      <td>O689957</td>\n",
       "      <td>2018-04-12 13:14:42</td>\n",
       "      <td>R10002</td>\n",
       "      <td>PICKUP</td>\n",
       "      <td>0.0</td>\n",
       "      <td>2.0</td>\n",
       "      <td>I1</td>\n",
       "      <td>I7</td>\n",
       "      <td>I11</td>\n",
       "      <td>I8</td>\n",
       "      <td>...</td>\n",
       "      <td>Farro with Summer Vegetables</td>\n",
       "      <td>Charred Broccoli with Lemon</td>\n",
       "      <td>Cauliflower with Garlic and Parmesan</td>\n",
       "      <td>Midtown</td>\n",
       "      <td>227.0</td>\n",
       "      <td>170.0</td>\n",
       "      <td>177.0</td>\n",
       "      <td>90.0</td>\n",
       "      <td>664.0</td>\n",
       "      <td>Middle calories</td>\n",
       "    </tr>\n",
       "    <tr>\n",
       "      <th>3</th>\n",
       "      <td>O1497863</td>\n",
       "      <td>2018-08-21 18:14:23</td>\n",
       "      <td>R10007</td>\n",
       "      <td>IN_STORE</td>\n",
       "      <td>1.0</td>\n",
       "      <td>0.0</td>\n",
       "      <td>I1</td>\n",
       "      <td>I5</td>\n",
       "      <td>I10</td>\n",
       "      <td>I9</td>\n",
       "      <td>...</td>\n",
       "      <td>Classic Brown Rice</td>\n",
       "      <td>Roasted Sweet Potatoes</td>\n",
       "      <td>Jasper Hill Mac &amp; Cheese</td>\n",
       "      <td>Upper West Side</td>\n",
       "      <td>227.0</td>\n",
       "      <td>160.0</td>\n",
       "      <td>140.0</td>\n",
       "      <td>361.0</td>\n",
       "      <td>888.0</td>\n",
       "      <td>High Calories</td>\n",
       "    </tr>\n",
       "    <tr>\n",
       "      <th>4</th>\n",
       "      <td>O1497863</td>\n",
       "      <td>2018-08-21 18:14:23</td>\n",
       "      <td>R10007</td>\n",
       "      <td>IN_STORE</td>\n",
       "      <td>1.0</td>\n",
       "      <td>0.0</td>\n",
       "      <td>I1</td>\n",
       "      <td>I5</td>\n",
       "      <td>I10</td>\n",
       "      <td>I9</td>\n",
       "      <td>...</td>\n",
       "      <td>Classic Brown Rice</td>\n",
       "      <td>Roasted Sweet Potatoes</td>\n",
       "      <td>Jasper Hill Mac &amp; Cheese</td>\n",
       "      <td>Upper West Side</td>\n",
       "      <td>227.0</td>\n",
       "      <td>160.0</td>\n",
       "      <td>170.0</td>\n",
       "      <td>361.0</td>\n",
       "      <td>918.0</td>\n",
       "      <td>High Calories</td>\n",
       "    </tr>\n",
       "  </tbody>\n",
       "</table>\n",
       "<p>5 rows × 21 columns</p>\n",
       "</div>"
      ],
      "text/plain": [
       "   ORDER_ID            DATETIME RESTAURANT_ID      TYPE  DRINKS  COOKIES  \\\n",
       "0  O2226026 2018-12-07 19:17:45        R10001    PICKUP     2.0      2.0   \n",
       "1  O1279827 2018-07-14 21:23:43        R10006  IN_STORE     0.0      0.0   \n",
       "2   O689957 2018-04-12 13:14:42        R10002    PICKUP     0.0      2.0   \n",
       "3  O1497863 2018-08-21 18:14:23        R10007  IN_STORE     1.0      0.0   \n",
       "4  O1497863 2018-08-21 18:14:23        R10007  IN_STORE     1.0      0.0   \n",
       "\n",
       "      MAIN     BASE     SIDE_1     SIDE_2  ...                     BASE_NAME  \\\n",
       "0  No main  No base  No side_1  No side_2  ...                           NaN   \n",
       "1  No main  No base  No side_1  No side_2  ...                           NaN   \n",
       "2       I1       I7        I11         I8  ...  Farro with Summer Vegetables   \n",
       "3       I1       I5        I10         I9  ...            Classic Brown Rice   \n",
       "4       I1       I5        I10         I9  ...            Classic Brown Rice   \n",
       "\n",
       "                   SIDE_1_NAME                           SIDE_2_NAME  \\\n",
       "0                          NaN                                   NaN   \n",
       "1                          NaN                                   NaN   \n",
       "2  Charred Broccoli with Lemon  Cauliflower with Garlic and Parmesan   \n",
       "3       Roasted Sweet Potatoes              Jasper Hill Mac & Cheese   \n",
       "4       Roasted Sweet Potatoes              Jasper Hill Mac & Cheese   \n",
       "\n",
       "   RESTAURANT_NAME MAIN_NAME_CALORIS  BASE_NAME_CALORIS  SIDE_1_NAME_CALORIS  \\\n",
       "0         Columbia               NaN                NaN                  NaN   \n",
       "1  Upper East Side               NaN                NaN                  NaN   \n",
       "2          Midtown             227.0              170.0                177.0   \n",
       "3  Upper West Side             227.0              160.0                140.0   \n",
       "4  Upper West Side             227.0              160.0                170.0   \n",
       "\n",
       "   SIDE_2_NAME_CALORIS  TOTAL_CALORIS  CALORIES CATEGORY  \n",
       "0                  NaN            NaN                NaN  \n",
       "1                  NaN            NaN                NaN  \n",
       "2                 90.0          664.0    Middle calories  \n",
       "3                361.0          888.0      High Calories  \n",
       "4                361.0          918.0      High Calories  \n",
       "\n",
       "[5 rows x 21 columns]"
      ]
     },
     "execution_count": 29,
     "metadata": {},
     "output_type": "execute_result"
    }
   ],
   "source": [
    "df_orders.head()"
   ]
  },
  {
   "cell_type": "code",
   "execution_count": 30,
   "id": "3f90038b",
   "metadata": {},
   "outputs": [
    {
     "name": "stdout",
     "output_type": "stream",
     "text": [
      "<class 'pandas.core.frame.DataFrame'>\n",
      "Int64Index: 3304159 entries, 0 to 3304158\n",
      "Data columns (total 21 columns):\n",
      " #   Column               Dtype         \n",
      "---  ------               -----         \n",
      " 0   ORDER_ID             object        \n",
      " 1   DATETIME             datetime64[ns]\n",
      " 2   RESTAURANT_ID        object        \n",
      " 3   TYPE                 object        \n",
      " 4   DRINKS               float64       \n",
      " 5   COOKIES              float64       \n",
      " 6   MAIN                 object        \n",
      " 7   BASE                 object        \n",
      " 8   SIDE_1               object        \n",
      " 9   SIDE_2               object        \n",
      " 10  MAIN_NAME            object        \n",
      " 11  BASE_NAME            object        \n",
      " 12  SIDE_1_NAME          object        \n",
      " 13  SIDE_2_NAME          object        \n",
      " 14  RESTAURANT_NAME      object        \n",
      " 15  MAIN_NAME_CALORIS    float64       \n",
      " 16  BASE_NAME_CALORIS    float64       \n",
      " 17  SIDE_1_NAME_CALORIS  float64       \n",
      " 18  SIDE_2_NAME_CALORIS  float64       \n",
      " 19  TOTAL_CALORIS        float64       \n",
      " 20  CALORIES CATEGORY    object        \n",
      "dtypes: datetime64[ns](1), float64(7), object(13)\n",
      "memory usage: 554.6+ MB\n"
     ]
    }
   ],
   "source": [
    "df_orders.info()"
   ]
  },
  {
   "cell_type": "code",
   "execution_count": 31,
   "id": "d3844e78",
   "metadata": {},
   "outputs": [
    {
     "data": {
      "text/plain": [
       "(3304159, 21)"
      ]
     },
     "execution_count": 31,
     "metadata": {},
     "output_type": "execute_result"
    }
   ],
   "source": [
    "df_orders.shape"
   ]
  },
  {
   "cell_type": "code",
   "execution_count": 32,
   "id": "d016e2e2",
   "metadata": {},
   "outputs": [
    {
     "data": {
      "text/plain": [
       "ORDER_ID                    0\n",
       "DATETIME                    0\n",
       "RESTAURANT_ID               0\n",
       "TYPE                        0\n",
       "DRINKS                      0\n",
       "COOKIES                     0\n",
       "MAIN                        0\n",
       "BASE                        0\n",
       "SIDE_1                      0\n",
       "SIDE_2                      0\n",
       "MAIN_NAME              121650\n",
       "BASE_NAME              121650\n",
       "SIDE_1_NAME            121650\n",
       "SIDE_2_NAME            121650\n",
       "RESTAURANT_NAME             0\n",
       "MAIN_NAME_CALORIS      121650\n",
       "BASE_NAME_CALORIS      121650\n",
       "SIDE_1_NAME_CALORIS    121650\n",
       "SIDE_2_NAME_CALORIS    121650\n",
       "TOTAL_CALORIS          121650\n",
       "CALORIES CATEGORY      121650\n",
       "dtype: int64"
      ]
     },
     "execution_count": 32,
     "metadata": {},
     "output_type": "execute_result"
    }
   ],
   "source": [
    "df_orders.isnull().sum()"
   ]
  },
  {
   "cell_type": "code",
   "execution_count": 33,
   "id": "22b533dc",
   "metadata": {},
   "outputs": [],
   "source": [
    "median_value = df_orders['TOTAL_CALORIS'].median()\n",
    "\n",
    "# Fill missing values with the median\n",
    "df_orders['TOTAL_CALORIS'].fillna(median_value, inplace=True)"
   ]
  },
  {
   "cell_type": "markdown",
   "id": "ad886724",
   "metadata": {},
   "source": [
    "### Extreme value checks"
   ]
  },
  {
   "cell_type": "code",
   "execution_count": 34,
   "id": "325cb840",
   "metadata": {},
   "outputs": [
    {
     "data": {
      "text/plain": [
       "<Axes: xlabel='TOTAL_CALORIS', ylabel='Count'>"
      ]
     },
     "execution_count": 34,
     "metadata": {},
     "output_type": "execute_result"
    },
    {
     "data": {
      "image/png": "[encoded data removed]",
      "text/plain": [
       "<Figure size 640x480 with 1 Axes>"
      ]
     },
     "metadata": {},
     "output_type": "display_data"
    }
   ],
   "source": [
    "sns.histplot(df_orders['TOTAL_CALORIS'], bins=25, ) # Shows extreme values"
   ]
  },
  {
   "cell_type": "code",
   "execution_count": 35,
   "id": "579020cc",
   "metadata": {},
   "outputs": [
    {
     "data": {
      "text/plain": [
       "673.0563783401465"
      ]
     },
     "execution_count": 35,
     "metadata": {},
     "output_type": "execute_result"
    }
   ],
   "source": [
    "df_orders['TOTAL_CALORIS'].mean() # Check the mean"
   ]
  },
  {
   "cell_type": "code",
   "execution_count": 36,
   "id": "d2b141f3",
   "metadata": {},
   "outputs": [
    {
     "data": {
      "text/plain": [
       "620.0"
      ]
     },
     "execution_count": 36,
     "metadata": {},
     "output_type": "execute_result"
    }
   ],
   "source": [
    "df_orders['TOTAL_CALORIS'].median() # Check the median"
   ]
  },
  {
   "cell_type": "code",
   "execution_count": 37,
   "id": "482868e8",
   "metadata": {},
   "outputs": [
    {
     "data": {
      "text/plain": [
       "1175.0"
      ]
     },
     "execution_count": 37,
     "metadata": {},
     "output_type": "execute_result"
    }
   ],
   "source": [
    "df_orders['TOTAL_CALORIS'].max() # Check the max"
   ]
  },
  {
   "cell_type": "markdown",
   "id": "48ca9435",
   "metadata": {},
   "source": [
    "###  we don't have extreme issues"
   ]
  },
  {
   "cell_type": "markdown",
   "id": "7f60c07d",
   "metadata": {},
   "source": [
    "## Step 4\n",
    "### Explore your data visually (e.g., by way of a scatterplot), looking for variables whose relationship you’d like to test."
   ]
  },
  {
   "cell_type": "code",
   "execution_count": 38,
   "id": "70f06455",
   "metadata": {},
   "outputs": [
    {
     "data": {
      "image/png": "[encoded data removed]",
      "text/plain": [
       "<Figure size 640x480 with 1 Axes>"
      ]
     },
     "metadata": {},
     "output_type": "display_data"
    }
   ],
   "source": [
    "# Create a scatterplot using matplotlib for another look at how the chosen variables plot against each other.\n",
    "\n",
    "df_orders.plot(x = 'TOTAL_CALORIS', y='COOKIES',style='o') # The style option creates a scatterplot; without it, we only have lines.\n",
    "plt.title('Calories vs Cookies')  \n",
    "plt.xlabel('TOTAL_CALORIS')  \n",
    "plt.ylabel('COOKIES')  \n",
    "plt.show()"
   ]
  },
  {
   "cell_type": "markdown",
   "id": "01e0b797",
   "metadata": {},
   "source": [
    "## Step 5\n",
    " ### State your hypothesis in a markdown cell within your Jupyter notebook."
   ]
  },
  {
   "cell_type": "markdown",
   "id": "2baef143",
   "metadata": {},
   "source": [
    "### In the previous task, we formulated a hypothesis as follows: Customers who choose green bases, such as 'Farm Greens with Mint,' are likely to prefer a healthier lifestyle. However, for linear regression analysis, it's important to focus on continuous variables. Consequently, for the purpose of this exercise, we propose a new hypothesis: Customers who tend to have a higher calorie consumption usually order cookies."
   ]
  },
  {
   "cell_type": "markdown",
   "id": "ebf1780e",
   "metadata": {},
   "source": [
    "## Step 6 \n",
    "### Reshape the variables into NumPy arrays, with X being the independent variable and y being the dependent variable."
   ]
  },
  {
   "cell_type": "code",
   "execution_count": 39,
   "id": "b3a3a3e2",
   "metadata": {},
   "outputs": [],
   "source": [
    "# Reshape the variables into NumPy arrays and put them into separate objects.\n",
    "\n",
    "X = df_orders['TOTAL_CALORIS'].values.reshape(-1,1)\n",
    "y = df_orders['COOKIES'].values.reshape(-1,1)"
   ]
  },
  {
   "cell_type": "code",
   "execution_count": 40,
   "id": "2ca69b0a",
   "metadata": {},
   "outputs": [
    {
     "data": {
      "text/plain": [
       "array([[ 620.],\n",
       "       [ 620.],\n",
       "       [ 664.],\n",
       "       ...,\n",
       "       [ 903.],\n",
       "       [ 933.],\n",
       "       [1114.]])"
      ]
     },
     "execution_count": 40,
     "metadata": {},
     "output_type": "execute_result"
    }
   ],
   "source": [
    "X"
   ]
  },
  {
   "cell_type": "code",
   "execution_count": 41,
   "id": "69234950",
   "metadata": {},
   "outputs": [
    {
     "data": {
      "text/plain": [
       "array([[2.],\n",
       "       [0.],\n",
       "       [2.],\n",
       "       ...,\n",
       "       [0.],\n",
       "       [0.],\n",
       "       [2.]])"
      ]
     },
     "execution_count": 41,
     "metadata": {},
     "output_type": "execute_result"
    }
   ],
   "source": [
    "y"
   ]
  },
  {
   "cell_type": "markdown",
   "id": "c6dbe6ef",
   "metadata": {},
   "source": [
    "## Step 7\n",
    "### Split the data into two sets: a training set and a test set."
   ]
  },
  {
   "cell_type": "code",
   "execution_count": 42,
   "id": "734dee4e",
   "metadata": {},
   "outputs": [],
   "source": [
    "# Split data into a training set and a test set.\n",
    "\n",
    "X_train, X_test, y_train, y_test = train_test_split(X, y, test_size=0.3, random_state=0)"
   ]
  },
  {
   "cell_type": "markdown",
   "id": "b5a267e4",
   "metadata": {},
   "source": [
    "## Step 8 \n",
    "### Run a linear regression on the data.\n",
    "### First, fit the model you created to the training set.\n",
    "### Then, create a prediction for y on the test set."
   ]
  },
  {
   "cell_type": "code",
   "execution_count": 43,
   "id": "1ddcaa87",
   "metadata": {},
   "outputs": [],
   "source": [
    "# Create a regression object.\n",
    "\n",
    "regression = LinearRegression()  # This is the regression object, which will be fit onto the training set."
   ]
  },
  {
   "cell_type": "code",
   "execution_count": 44,
   "id": "682dbab7",
   "metadata": {},
   "outputs": [
    {
     "data": {
      "text/html": [
       "<style>#sk-container-id-2 {color: black;background-color: white;}#sk-container-id-2 pre{padding: 0;}#sk-container-id-2 div.sk-toggleable {background-color: white;}#sk-container-id-2 label.sk-toggleable__label {cursor: pointer;display: block;width: 100%;margin-bottom: 0;padding: 0.3em;box-sizing: border-box;text-align: center;}#sk-container-id-2 label.sk-toggleable__label-arrow:before {content: \"▸\";float: left;margin-right: 0.25em;color: #696969;}#sk-container-id-2 label.sk-toggleable__label-arrow:hover:before {color: black;}#sk-container-id-2 div.sk-estimator:hover label.sk-toggleable__label-arrow:before {color: black;}#sk-container-id-2 div.sk-toggleable__content {max-height: 0;max-width: 0;overflow: hidden;text-align: left;background-color: #f0f8ff;}#sk-container-id-2 div.sk-toggleable__content pre {margin: 0.2em;color: black;border-radius: 0.25em;background-color: #f0f8ff;}#sk-container-id-2 input.sk-toggleable__control:checked~div.sk-toggleable__content {max-height: 200px;max-width: 100%;overflow: auto;}#sk-container-id-2 input.sk-toggleable__control:checked~label.sk-toggleable__label-arrow:before {content: \"▾\";}#sk-container-id-2 div.sk-estimator input.sk-toggleable__control:checked~label.sk-toggleable__label {background-color: #d4ebff;}#sk-container-id-2 div.sk-label input.sk-toggleable__control:checked~label.sk-toggleable__label {background-color: #d4ebff;}#sk-container-id-2 input.sk-hidden--visually {border: 0;clip: rect(1px 1px 1px 1px);clip: rect(1px, 1px, 1px, 1px);height: 1px;margin: -1px;overflow: hidden;padding: 0;position: absolute;width: 1px;}#sk-container-id-2 div.sk-estimator {font-family: monospace;background-color: #f0f8ff;border: 1px dotted black;border-radius: 0.25em;box-sizing: border-box;margin-bottom: 0.5em;}#sk-container-id-2 div.sk-estimator:hover {background-color: #d4ebff;}#sk-container-id-2 div.sk-parallel-item::after {content: \"\";width: 100%;border-bottom: 1px solid gray;flex-grow: 1;}#sk-container-id-2 div.sk-label:hover label.sk-toggleable__label {background-color: #d4ebff;}#sk-container-id-2 div.sk-serial::before {content: \"\";position: absolute;border-left: 1px solid gray;box-sizing: border-box;top: 0;bottom: 0;left: 50%;z-index: 0;}#sk-container-id-2 div.sk-serial {display: flex;flex-direction: column;align-items: center;background-color: white;padding-right: 0.2em;padding-left: 0.2em;position: relative;}#sk-container-id-2 div.sk-item {position: relative;z-index: 1;}#sk-container-id-2 div.sk-parallel {display: flex;align-items: stretch;justify-content: center;background-color: white;position: relative;}#sk-container-id-2 div.sk-item::before, #sk-container-id-2 div.sk-parallel-item::before {content: \"\";position: absolute;border-left: 1px solid gray;box-sizing: border-box;top: 0;bottom: 0;left: 50%;z-index: -1;}#sk-container-id-2 div.sk-parallel-item {display: flex;flex-direction: column;z-index: 1;position: relative;background-color: white;}#sk-container-id-2 div.sk-parallel-item:first-child::after {align-self: flex-end;width: 50%;}#sk-container-id-2 div.sk-parallel-item:last-child::after {align-self: flex-start;width: 50%;}#sk-container-id-2 div.sk-parallel-item:only-child::after {width: 0;}#sk-container-id-2 div.sk-dashed-wrapped {border: 1px dashed gray;margin: 0 0.4em 0.5em 0.4em;box-sizing: border-box;padding-bottom: 0.4em;background-color: white;}#sk-container-id-2 div.sk-label label {font-family: monospace;font-weight: bold;display: inline-block;line-height: 1.2em;}#sk-container-id-2 div.sk-label-container {text-align: center;}#sk-container-id-2 div.sk-container {/* jupyter's `normalize.less` sets `[hidden] { display: none; }` but bootstrap.min.css set `[hidden] { display: none !important; }` so we also need the `!important` here to be able to override the default hidden behavior on the sphinx rendered scikit-learn.org. See: https://github.com/scikit-learn/scikit-learn/issues/21755 */display: inline-block !important;position: relative;}#sk-container-id-2 div.sk-text-repr-fallback {display: none;}</style><div id=\"sk-container-id-2\" class=\"sk-top-container\"><div class=\"sk-text-repr-fallback\"><pre>LinearRegression()</pre><b>In a Jupyter environment, please rerun this cell to show the HTML representation or trust the notebook. <br />On GitHub, the HTML representation is unable to render, please try loading this page with nbviewer.org.</b></div><div class=\"sk-container\" hidden><div class=\"sk-item\"><div class=\"sk-estimator sk-toggleable\"><input class=\"sk-toggleable__control sk-hidden--visually\" id=\"sk-estimator-id-2\" type=\"checkbox\" checked><label for=\"sk-estimator-id-2\" class=\"sk-toggleable__label sk-toggleable__label-arrow\">LinearRegression</label><div class=\"sk-toggleable__content\"><pre>LinearRegression()</pre></div></div></div></div></div>"
      ],
      "text/plain": [
       "LinearRegression()"
      ]
     },
     "execution_count": 44,
     "metadata": {},
     "output_type": "execute_result"
    }
   ],
   "source": [
    "# Fit the regression object onto the training set.\n",
    "\n",
    "regression.fit(X_train, y_train)"
   ]
  },
  {
   "cell_type": "code",
   "execution_count": 45,
   "id": "8d3a0688",
   "metadata": {},
   "outputs": [],
   "source": [
    "# Predict the values of y using X.\n",
    "\n",
    "y_predicted = regression.predict(X_test)"
   ]
  },
  {
   "cell_type": "markdown",
   "id": "ada423bd",
   "metadata": {},
   "source": [
    "##  Step 9\n",
    "### Create a plot that shows the regression line on the test set."
   ]
  },
  {
   "cell_type": "code",
   "execution_count": 46,
   "id": "039c5d4a",
   "metadata": {},
   "outputs": [
    {
     "data": {
      "image/png": "[encoded data removed]",
      "text/plain": [
       "<Figure size 640x480 with 1 Axes>"
      ]
     },
     "metadata": {},
     "output_type": "display_data"
    }
   ],
   "source": [
    "# Create a plot that shows the regression line from the model on the test set.\n",
    "\n",
    "plot_test = plt\n",
    "plot_test.scatter(X_test, y_test, color='gray', s = 15)\n",
    "plot_test.plot(X_test, y_predicted, color='red', linewidth =3)\n",
    "plot_test.title('Calories vs Cookies (Test set)')\n",
    "plot_test.xlabel('Total_Caloris')\n",
    "plot_test.ylabel('Cookies')\n",
    "plot_test.show()"
   ]
  },
  {
   "cell_type": "markdown",
   "id": "e47adbcf",
   "metadata": {},
   "source": [
    "## Step 10\n",
    "### Write your own interpretation of how well the line appears to fit the data in a markdown cell.\n",
    "###  The chart above indicates a notably low correlation between the X and Y variables. This can be attributed to the nature of our project data, which is not well-suited for linear regression analysis. Our Y variable comprises only three discrete values: 0, 1, and 2. Given that the standard linear regression model is designed for continuous dependent variables, the inherent categorical nature of our Y variable suggests that logistic regression may be a more suitable approach in this context."
   ]
  },
  {
   "cell_type": "markdown",
   "id": "4972c253",
   "metadata": {},
   "source": [
    "## Step 11\n",
    "### Check the model performance statistics—MSE and R2 score"
   ]
  },
  {
   "cell_type": "code",
   "execution_count": 47,
   "id": "e88f4a5e",
   "metadata": {},
   "outputs": [],
   "source": [
    "# Create objects that contain the model summary statistics.\n",
    "\n",
    "rmse = mean_squared_error(y_test, y_predicted) # This is the mean squared error\n",
    "r2 = r2_score(y_test, y_predicted) # This is the R2 score. "
   ]
  },
  {
   "cell_type": "code",
   "execution_count": 48,
   "id": "ac575343",
   "metadata": {},
   "outputs": [
    {
     "name": "stdout",
     "output_type": "stream",
     "text": [
      "Slope: [[0.00054794]]\n",
      "Mean squared error:  0.2839002172907747\n",
      "R2 score:  0.04076431241439893\n"
     ]
    }
   ],
   "source": [
    "# Print the model summary statistics. This is where you evaluate the performance of the model.\n",
    "\n",
    "print('Slope:' ,regression.coef_)\n",
    "print('Mean squared error: ', rmse)\n",
    "print('R2 score: ', r2)"
   ]
  },
  {
   "cell_type": "markdown",
   "id": "27af7b4c",
   "metadata": {},
   "source": [
    "### You can see that statistical data demonstrate low correlation between our variables."
   ]
  },
  {
   "cell_type": "markdown",
   "id": "537fb111",
   "metadata": {},
   "source": [
    "## Step 12\n",
    "### Compare the predicted y values with the actual y values in a dataframe."
   ]
  },
  {
   "cell_type": "code",
   "execution_count": 49,
   "id": "3a94b001",
   "metadata": {},
   "outputs": [
    {
     "data": {
      "text/plain": [
       "array([[0.21635631],\n",
       "       [0.34402568],\n",
       "       [0.06348182],\n",
       "       ...,\n",
       "       [0.33580662],\n",
       "       [0.09581012],\n",
       "       [0.12375492]])"
      ]
     },
     "execution_count": 49,
     "metadata": {},
     "output_type": "execute_result"
    }
   ],
   "source": [
    "y_predicted"
   ]
  },
  {
   "cell_type": "code",
   "execution_count": 50,
   "id": "ea160a13",
   "metadata": {},
   "outputs": [
    {
     "data": {
      "text/html": [
       "<div>\n",
       "<style scoped>\n",
       "    .dataframe tbody tr th:only-of-type {\n",
       "        vertical-align: middle;\n",
       "    }\n",
       "\n",
       "    .dataframe tbody tr th {\n",
       "        vertical-align: top;\n",
       "    }\n",
       "\n",
       "    .dataframe thead th {\n",
       "        text-align: right;\n",
       "    }\n",
       "</style>\n",
       "<table border=\"1\" class=\"dataframe\">\n",
       "  <thead>\n",
       "    <tr style=\"text-align: right;\">\n",
       "      <th></th>\n",
       "      <th>Actual</th>\n",
       "      <th>Predicted</th>\n",
       "    </tr>\n",
       "  </thead>\n",
       "  <tbody>\n",
       "    <tr>\n",
       "      <th>0</th>\n",
       "      <td>1.0</td>\n",
       "      <td>0.216356</td>\n",
       "    </tr>\n",
       "    <tr>\n",
       "      <th>1</th>\n",
       "      <td>0.0</td>\n",
       "      <td>0.344026</td>\n",
       "    </tr>\n",
       "    <tr>\n",
       "      <th>2</th>\n",
       "      <td>0.0</td>\n",
       "      <td>0.063482</td>\n",
       "    </tr>\n",
       "    <tr>\n",
       "      <th>3</th>\n",
       "      <td>0.0</td>\n",
       "      <td>0.181836</td>\n",
       "    </tr>\n",
       "    <tr>\n",
       "      <th>4</th>\n",
       "      <td>1.0</td>\n",
       "      <td>0.329779</td>\n",
       "    </tr>\n",
       "    <tr>\n",
       "      <th>5</th>\n",
       "      <td>0.0</td>\n",
       "      <td>0.385121</td>\n",
       "    </tr>\n",
       "    <tr>\n",
       "      <th>6</th>\n",
       "      <td>0.0</td>\n",
       "      <td>0.077180</td>\n",
       "    </tr>\n",
       "    <tr>\n",
       "      <th>7</th>\n",
       "      <td>0.0</td>\n",
       "      <td>0.145672</td>\n",
       "    </tr>\n",
       "    <tr>\n",
       "      <th>8</th>\n",
       "      <td>1.0</td>\n",
       "      <td>0.237726</td>\n",
       "    </tr>\n",
       "    <tr>\n",
       "      <th>9</th>\n",
       "      <td>0.0</td>\n",
       "      <td>0.127590</td>\n",
       "    </tr>\n",
       "    <tr>\n",
       "      <th>10</th>\n",
       "      <td>0.0</td>\n",
       "      <td>0.149508</td>\n",
       "    </tr>\n",
       "    <tr>\n",
       "      <th>11</th>\n",
       "      <td>2.0</td>\n",
       "      <td>0.344026</td>\n",
       "    </tr>\n",
       "    <tr>\n",
       "      <th>12</th>\n",
       "      <td>0.0</td>\n",
       "      <td>0.088139</td>\n",
       "    </tr>\n",
       "    <tr>\n",
       "      <th>13</th>\n",
       "      <td>0.0</td>\n",
       "      <td>0.131974</td>\n",
       "    </tr>\n",
       "    <tr>\n",
       "      <th>14</th>\n",
       "      <td>0.0</td>\n",
       "      <td>0.284301</td>\n",
       "    </tr>\n",
       "    <tr>\n",
       "      <th>15</th>\n",
       "      <td>0.0</td>\n",
       "      <td>0.242657</td>\n",
       "    </tr>\n",
       "    <tr>\n",
       "      <th>16</th>\n",
       "      <td>0.0</td>\n",
       "      <td>0.044304</td>\n",
       "    </tr>\n",
       "    <tr>\n",
       "      <th>17</th>\n",
       "      <td>0.0</td>\n",
       "      <td>0.218000</td>\n",
       "    </tr>\n",
       "    <tr>\n",
       "      <th>18</th>\n",
       "      <td>0.0</td>\n",
       "      <td>0.261835</td>\n",
       "    </tr>\n",
       "    <tr>\n",
       "      <th>19</th>\n",
       "      <td>0.0</td>\n",
       "      <td>0.175809</td>\n",
       "    </tr>\n",
       "    <tr>\n",
       "      <th>20</th>\n",
       "      <td>2.0</td>\n",
       "      <td>0.358272</td>\n",
       "    </tr>\n",
       "    <tr>\n",
       "      <th>21</th>\n",
       "      <td>0.0</td>\n",
       "      <td>0.121563</td>\n",
       "    </tr>\n",
       "    <tr>\n",
       "      <th>22</th>\n",
       "      <td>0.0</td>\n",
       "      <td>0.224027</td>\n",
       "    </tr>\n",
       "    <tr>\n",
       "      <th>23</th>\n",
       "      <td>1.0</td>\n",
       "      <td>0.209781</td>\n",
       "    </tr>\n",
       "    <tr>\n",
       "      <th>24</th>\n",
       "      <td>0.0</td>\n",
       "      <td>0.112248</td>\n",
       "    </tr>\n",
       "    <tr>\n",
       "      <th>25</th>\n",
       "      <td>0.0</td>\n",
       "      <td>0.216356</td>\n",
       "    </tr>\n",
       "    <tr>\n",
       "      <th>26</th>\n",
       "      <td>1.0</td>\n",
       "      <td>0.253068</td>\n",
       "    </tr>\n",
       "    <tr>\n",
       "      <th>27</th>\n",
       "      <td>0.0</td>\n",
       "      <td>0.184028</td>\n",
       "    </tr>\n",
       "    <tr>\n",
       "      <th>28</th>\n",
       "      <td>0.0</td>\n",
       "      <td>0.259095</td>\n",
       "    </tr>\n",
       "    <tr>\n",
       "      <th>29</th>\n",
       "      <td>0.0</td>\n",
       "      <td>0.147316</td>\n",
       "    </tr>\n",
       "  </tbody>\n",
       "</table>\n",
       "</div>"
      ],
      "text/plain": [
       "    Actual  Predicted\n",
       "0      1.0   0.216356\n",
       "1      0.0   0.344026\n",
       "2      0.0   0.063482\n",
       "3      0.0   0.181836\n",
       "4      1.0   0.329779\n",
       "5      0.0   0.385121\n",
       "6      0.0   0.077180\n",
       "7      0.0   0.145672\n",
       "8      1.0   0.237726\n",
       "9      0.0   0.127590\n",
       "10     0.0   0.149508\n",
       "11     2.0   0.344026\n",
       "12     0.0   0.088139\n",
       "13     0.0   0.131974\n",
       "14     0.0   0.284301\n",
       "15     0.0   0.242657\n",
       "16     0.0   0.044304\n",
       "17     0.0   0.218000\n",
       "18     0.0   0.261835\n",
       "19     0.0   0.175809\n",
       "20     2.0   0.358272\n",
       "21     0.0   0.121563\n",
       "22     0.0   0.224027\n",
       "23     1.0   0.209781\n",
       "24     0.0   0.112248\n",
       "25     0.0   0.216356\n",
       "26     1.0   0.253068\n",
       "27     0.0   0.184028\n",
       "28     0.0   0.259095\n",
       "29     0.0   0.147316"
      ]
     },
     "execution_count": 50,
     "metadata": {},
     "output_type": "execute_result"
    }
   ],
   "source": [
    "# Create a dataframe comparing the actual and predicted values of y.\n",
    "\n",
    "data = pd.DataFrame({'Actual': y_test.flatten(), 'Predicted': y_predicted.flatten()})\n",
    "data.head(30)"
   ]
  },
  {
   "cell_type": "markdown",
   "id": "c5aea887",
   "metadata": {},
   "source": [
    "## Step 13\n",
    "### Include your thoughts on how well the model performed on the test set in a markdown cell.\n",
    "### Include any reflections you have on the impact of possible data bias."
   ]
  },
  {
   "cell_type": "markdown",
   "id": "f2112ccf",
   "metadata": {},
   "source": [
    "### As previously mentioned, the project data is not well-suited for linear regression analysis due to the minimal correlation between the X and Y variables. The limited relationship between these variables hinders the ability to draw valid conclusions. I am optimistic that in the upcoming lessons, we will delve into logistic regression, providing an opportunity to test the hypotheses developed for this project."
   ]
  },
  {
   "cell_type": "code",
   "execution_count": null,
   "id": "390ebf4d",
   "metadata": {},
   "outputs": [],
   "source": []
  }
 ],
 "metadata": {
  "kernelspec": {
   "display_name": "Python 3 (ipykernel)",
   "language": "python",
   "name": "python3"
  },
  "language_info": {
   "codemirror_mode": {
    "name": "ipython",
    "version": 3
   },
   "file_extension": ".py",
   "mimetype": "text/x-python",
   "name": "python",
   "nbconvert_exporter": "python",
   "pygments_lexer": "ipython3",
   "version": "3.10.9"
  }
 },
 "nbformat": 4,
 "nbformat_minor": 5
}
