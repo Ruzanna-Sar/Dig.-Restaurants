{
 "cells": [
  {
   "cell_type": "markdown",
   "id": "c98e5ad1",
   "metadata": {},
   "source": [
    "# Sourcing Open Data"
   ]
  },
  {
   "cell_type": "markdown",
   "id": "1f54537e",
   "metadata": {},
   "source": [
    "## Importing Libraries & pickle file"
   ]
  },
  {
   "cell_type": "code",
   "execution_count": 1,
   "id": "013e2ec3",
   "metadata": {},
   "outputs": [],
   "source": [
    "import pandas as pd\n",
    "import numpy as np\n",
    "import os"
   ]
  },
  {
   "cell_type": "markdown",
   "id": "f621aba4",
   "metadata": {},
   "source": [
    "## Dig Inn  Data"
   ]
  },
  {
   "cell_type": "code",
   "execution_count": 2,
   "id": "c31cf9b4",
   "metadata": {},
   "outputs": [],
   "source": [
    "path = r'C:\\Users\\RUZANNA\\OneDrive\\Desktop\\Careerfoundry\\Final Project'"
   ]
  },
  {
   "cell_type": "code",
   "execution_count": 3,
   "id": "538d776e",
   "metadata": {},
   "outputs": [],
   "source": [
    "df_orders=pd.read_pickle(os.path.join(path, 'Data', 'Original Data', 'orders.pickle' ))"
   ]
  },
  {
   "cell_type": "code",
   "execution_count": 4,
   "id": "6c7462ed",
   "metadata": {},
   "outputs": [],
   "source": [
    "df_items = pd.read_pickle(os.path.join(path, 'Data', 'Original Data', 'items.pickle'))"
   ]
  },
  {
   "cell_type": "code",
   "execution_count": 5,
   "id": "1481793b",
   "metadata": {},
   "outputs": [],
   "source": [
    "df_restaurants = pd.read_pickle(os.path.join(path, 'Data', 'Original Data', 'restaurants.pickle'))"
   ]
  },
  {
   "cell_type": "code",
   "execution_count": 6,
   "id": "df0a4c9c",
   "metadata": {},
   "outputs": [],
   "source": [
    "df_nutrition = pd.read_pickle(os.path.join(path, 'Data', 'Original Data','nutrition.pickle'))"
   ]
  },
  {
   "cell_type": "markdown",
   "id": "2a493e14",
   "metadata": {},
   "source": [
    "## Checking dimensions of imported files"
   ]
  },
  {
   "cell_type": "code",
   "execution_count": 7,
   "id": "700190d1",
   "metadata": {},
   "outputs": [
    {
     "data": {
      "text/plain": [
       "(2392366, 10)"
      ]
     },
     "execution_count": 7,
     "metadata": {},
     "output_type": "execute_result"
    }
   ],
   "source": [
    "df_orders.shape"
   ]
  },
  {
   "cell_type": "code",
   "execution_count": 8,
   "id": "4b823def",
   "metadata": {},
   "outputs": [
    {
     "data": {
      "text/plain": [
       "(8, 7)"
      ]
     },
     "execution_count": 8,
     "metadata": {},
     "output_type": "execute_result"
    }
   ],
   "source": [
    "df_restaurants.shape"
   ]
  },
  {
   "cell_type": "code",
   "execution_count": 9,
   "id": "66f492c8",
   "metadata": {},
   "outputs": [
    {
     "data": {
      "text/plain": [
       "(31, 3)"
      ]
     },
     "execution_count": 9,
     "metadata": {},
     "output_type": "execute_result"
    }
   ],
   "source": [
    "df_items.shape"
   ]
  },
  {
   "cell_type": "code",
   "execution_count": 10,
   "id": "af4bca1f",
   "metadata": {},
   "outputs": [
    {
     "data": {
      "text/plain": [
       "(41, 12)"
      ]
     },
     "execution_count": 10,
     "metadata": {},
     "output_type": "execute_result"
    }
   ],
   "source": [
    "df_nutrition.shape"
   ]
  },
  {
   "cell_type": "code",
   "execution_count": 11,
   "id": "03893039",
   "metadata": {},
   "outputs": [
    {
     "data": {
      "text/html": [
       "<div>\n",
       "<style scoped>\n",
       "    .dataframe tbody tr th:only-of-type {\n",
       "        vertical-align: middle;\n",
       "    }\n",
       "\n",
       "    .dataframe tbody tr th {\n",
       "        vertical-align: top;\n",
       "    }\n",
       "\n",
       "    .dataframe thead th {\n",
       "        text-align: right;\n",
       "    }\n",
       "</style>\n",
       "<table border=\"1\" class=\"dataframe\">\n",
       "  <thead>\n",
       "    <tr style=\"text-align: right;\">\n",
       "      <th></th>\n",
       "      <th>ORDER_ID</th>\n",
       "      <th>DATETIME</th>\n",
       "      <th>RESTAURANT_ID</th>\n",
       "      <th>TYPE</th>\n",
       "      <th>DRINKS</th>\n",
       "      <th>COOKIES</th>\n",
       "      <th>MAIN</th>\n",
       "      <th>BASE</th>\n",
       "      <th>SIDE_1</th>\n",
       "      <th>SIDE_2</th>\n",
       "    </tr>\n",
       "  </thead>\n",
       "  <tbody>\n",
       "    <tr>\n",
       "      <th>0</th>\n",
       "      <td>O2226026</td>\n",
       "      <td>2018-12-07 19:17:45</td>\n",
       "      <td>R10001</td>\n",
       "      <td>PICKUP</td>\n",
       "      <td>2.0</td>\n",
       "      <td>2.0</td>\n",
       "      <td>NaN</td>\n",
       "      <td>NaN</td>\n",
       "      <td>NaN</td>\n",
       "      <td>NaN</td>\n",
       "    </tr>\n",
       "    <tr>\n",
       "      <th>1</th>\n",
       "      <td>O1279827</td>\n",
       "      <td>2018-07-14 21:23:43</td>\n",
       "      <td>R10006</td>\n",
       "      <td>IN_STORE</td>\n",
       "      <td>0.0</td>\n",
       "      <td>0.0</td>\n",
       "      <td>NaN</td>\n",
       "      <td>NaN</td>\n",
       "      <td>NaN</td>\n",
       "      <td>NaN</td>\n",
       "    </tr>\n",
       "    <tr>\n",
       "      <th>2</th>\n",
       "      <td>O689957</td>\n",
       "      <td>2018-04-12 13:14:42</td>\n",
       "      <td>R10002</td>\n",
       "      <td>PICKUP</td>\n",
       "      <td>0.0</td>\n",
       "      <td>2.0</td>\n",
       "      <td>I1</td>\n",
       "      <td>I7</td>\n",
       "      <td>I11</td>\n",
       "      <td>I8</td>\n",
       "    </tr>\n",
       "    <tr>\n",
       "      <th>3</th>\n",
       "      <td>O1497863</td>\n",
       "      <td>2018-08-21 18:14:23</td>\n",
       "      <td>R10007</td>\n",
       "      <td>IN_STORE</td>\n",
       "      <td>1.0</td>\n",
       "      <td>0.0</td>\n",
       "      <td>I1</td>\n",
       "      <td>I5</td>\n",
       "      <td>I10</td>\n",
       "      <td>I9</td>\n",
       "    </tr>\n",
       "    <tr>\n",
       "      <th>4</th>\n",
       "      <td>O1443303</td>\n",
       "      <td>2018-08-12 18:04:44</td>\n",
       "      <td>R10006</td>\n",
       "      <td>DELIVERY</td>\n",
       "      <td>0.0</td>\n",
       "      <td>0.0</td>\n",
       "      <td>I1</td>\n",
       "      <td>I6</td>\n",
       "      <td>I10</td>\n",
       "      <td>I11</td>\n",
       "    </tr>\n",
       "  </tbody>\n",
       "</table>\n",
       "</div>"
      ],
      "text/plain": [
       "   ORDER_ID            DATETIME RESTAURANT_ID      TYPE  DRINKS  COOKIES MAIN  \\\n",
       "0  O2226026 2018-12-07 19:17:45        R10001    PICKUP     2.0      2.0  NaN   \n",
       "1  O1279827 2018-07-14 21:23:43        R10006  IN_STORE     0.0      0.0  NaN   \n",
       "2   O689957 2018-04-12 13:14:42        R10002    PICKUP     0.0      2.0   I1   \n",
       "3  O1497863 2018-08-21 18:14:23        R10007  IN_STORE     1.0      0.0   I1   \n",
       "4  O1443303 2018-08-12 18:04:44        R10006  DELIVERY     0.0      0.0   I1   \n",
       "\n",
       "  BASE SIDE_1 SIDE_2  \n",
       "0  NaN    NaN    NaN  \n",
       "1  NaN    NaN    NaN  \n",
       "2   I7    I11     I8  \n",
       "3   I5    I10     I9  \n",
       "4   I6    I10    I11  "
      ]
     },
     "execution_count": 11,
     "metadata": {},
     "output_type": "execute_result"
    }
   ],
   "source": [
    "df_orders.head()"
   ]
  },
  {
   "cell_type": "code",
   "execution_count": 12,
   "id": "bf055692",
   "metadata": {},
   "outputs": [
    {
     "name": "stdout",
     "output_type": "stream",
     "text": [
      "<class 'pandas.core.frame.DataFrame'>\n",
      "RangeIndex: 2392366 entries, 0 to 2392365\n",
      "Data columns (total 10 columns):\n",
      " #   Column         Dtype         \n",
      "---  ------         -----         \n",
      " 0   ORDER_ID       object        \n",
      " 1   DATETIME       datetime64[ns]\n",
      " 2   RESTAURANT_ID  object        \n",
      " 3   TYPE           object        \n",
      " 4   DRINKS         float64       \n",
      " 5   COOKIES        float64       \n",
      " 6   MAIN           object        \n",
      " 7   BASE           object        \n",
      " 8   SIDE_1         object        \n",
      " 9   SIDE_2         object        \n",
      "dtypes: datetime64[ns](1), float64(2), object(7)\n",
      "memory usage: 182.5+ MB\n"
     ]
    }
   ],
   "source": [
    "df_orders.info()"
   ]
  },
  {
   "cell_type": "code",
   "execution_count": 13,
   "id": "9ae6a518",
   "metadata": {},
   "outputs": [
    {
     "data": {
      "text/html": [
       "<div>\n",
       "<style scoped>\n",
       "    .dataframe tbody tr th:only-of-type {\n",
       "        vertical-align: middle;\n",
       "    }\n",
       "\n",
       "    .dataframe tbody tr th {\n",
       "        vertical-align: top;\n",
       "    }\n",
       "\n",
       "    .dataframe thead th {\n",
       "        text-align: right;\n",
       "    }\n",
       "</style>\n",
       "<table border=\"1\" class=\"dataframe\">\n",
       "  <thead>\n",
       "    <tr style=\"text-align: right;\">\n",
       "      <th></th>\n",
       "      <th>RESTAURANT_ID</th>\n",
       "      <th>NAME</th>\n",
       "      <th>ADDRESS</th>\n",
       "      <th>LAT</th>\n",
       "      <th>LONG</th>\n",
       "      <th>OPENING_DATE</th>\n",
       "      <th>DELIVERY_START</th>\n",
       "    </tr>\n",
       "  </thead>\n",
       "  <tbody>\n",
       "    <tr>\n",
       "      <th>0</th>\n",
       "      <td>R10001</td>\n",
       "      <td>Columbia</td>\n",
       "      <td>2884 Broadway, New York, NY 10025</td>\n",
       "      <td>40.811470</td>\n",
       "      <td>-73.961230</td>\n",
       "      <td>2014-08-09</td>\n",
       "      <td>2017-01-01</td>\n",
       "    </tr>\n",
       "    <tr>\n",
       "      <th>1</th>\n",
       "      <td>R10002</td>\n",
       "      <td>Midtown</td>\n",
       "      <td>1379 6th Ave, New York, NY 10019</td>\n",
       "      <td>40.763640</td>\n",
       "      <td>-73.977960</td>\n",
       "      <td>2013-03-19</td>\n",
       "      <td>2018-05-01</td>\n",
       "    </tr>\n",
       "    <tr>\n",
       "      <th>2</th>\n",
       "      <td>R10003</td>\n",
       "      <td>Bryant Park</td>\n",
       "      <td>70 W 40th St, New York, NY 10018</td>\n",
       "      <td>40.752911</td>\n",
       "      <td>-73.983498</td>\n",
       "      <td>2013-05-21</td>\n",
       "      <td>2018-05-01</td>\n",
       "    </tr>\n",
       "    <tr>\n",
       "      <th>3</th>\n",
       "      <td>R10005</td>\n",
       "      <td>Flatiron</td>\n",
       "      <td>40 W 25th St, New York, NY 10010</td>\n",
       "      <td>40.743600</td>\n",
       "      <td>-73.991070</td>\n",
       "      <td>2013-11-14</td>\n",
       "      <td>2016-03-05</td>\n",
       "    </tr>\n",
       "    <tr>\n",
       "      <th>4</th>\n",
       "      <td>R10004</td>\n",
       "      <td>NYU</td>\n",
       "      <td>109 Macdougal St, New York, NY 10012</td>\n",
       "      <td>40.729930</td>\n",
       "      <td>-74.000820</td>\n",
       "      <td>2014-01-10</td>\n",
       "      <td>2017-01-01</td>\n",
       "    </tr>\n",
       "    <tr>\n",
       "      <th>5</th>\n",
       "      <td>R10006</td>\n",
       "      <td>Upper East Side</td>\n",
       "      <td>1045 Lexington Ave, New York, NY 10021</td>\n",
       "      <td>40.772010</td>\n",
       "      <td>-73.960780</td>\n",
       "      <td>2014-05-29</td>\n",
       "      <td>2017-08-02</td>\n",
       "    </tr>\n",
       "    <tr>\n",
       "      <th>6</th>\n",
       "      <td>R10007</td>\n",
       "      <td>Upper West Side</td>\n",
       "      <td>2140 Broadway, New York, NY 10023</td>\n",
       "      <td>40.775430</td>\n",
       "      <td>-73.982050</td>\n",
       "      <td>2015-02-02</td>\n",
       "      <td>2017-08-02</td>\n",
       "    </tr>\n",
       "    <tr>\n",
       "      <th>7</th>\n",
       "      <td>R10008</td>\n",
       "      <td>Williamsburg</td>\n",
       "      <td>45 S 3rd St, Brooklyn, NY 11249</td>\n",
       "      <td>40.713749</td>\n",
       "      <td>-73.965782</td>\n",
       "      <td>2015-10-12</td>\n",
       "      <td>2017-01-01</td>\n",
       "    </tr>\n",
       "  </tbody>\n",
       "</table>\n",
       "</div>"
      ],
      "text/plain": [
       "  RESTAURANT_ID             NAME                                 ADDRESS  \\\n",
       "0        R10001         Columbia       2884 Broadway, New York, NY 10025   \n",
       "1        R10002          Midtown        1379 6th Ave, New York, NY 10019   \n",
       "2        R10003      Bryant Park        70 W 40th St, New York, NY 10018   \n",
       "3        R10005         Flatiron        40 W 25th St, New York, NY 10010   \n",
       "4        R10004              NYU    109 Macdougal St, New York, NY 10012   \n",
       "5        R10006  Upper East Side  1045 Lexington Ave, New York, NY 10021   \n",
       "6        R10007  Upper West Side       2140 Broadway, New York, NY 10023   \n",
       "7        R10008     Williamsburg         45 S 3rd St, Brooklyn, NY 11249   \n",
       "\n",
       "         LAT       LONG OPENING_DATE DELIVERY_START  \n",
       "0  40.811470 -73.961230   2014-08-09     2017-01-01  \n",
       "1  40.763640 -73.977960   2013-03-19     2018-05-01  \n",
       "2  40.752911 -73.983498   2013-05-21     2018-05-01  \n",
       "3  40.743600 -73.991070   2013-11-14     2016-03-05  \n",
       "4  40.729930 -74.000820   2014-01-10     2017-01-01  \n",
       "5  40.772010 -73.960780   2014-05-29     2017-08-02  \n",
       "6  40.775430 -73.982050   2015-02-02     2017-08-02  \n",
       "7  40.713749 -73.965782   2015-10-12     2017-01-01  "
      ]
     },
     "execution_count": 13,
     "metadata": {},
     "output_type": "execute_result"
    }
   ],
   "source": [
    "df_restaurants"
   ]
  },
  {
   "cell_type": "code",
   "execution_count": 14,
   "id": "6615ede8",
   "metadata": {},
   "outputs": [
    {
     "data": {
      "text/html": [
       "<div>\n",
       "<style scoped>\n",
       "    .dataframe tbody tr th:only-of-type {\n",
       "        vertical-align: middle;\n",
       "    }\n",
       "\n",
       "    .dataframe tbody tr th {\n",
       "        vertical-align: top;\n",
       "    }\n",
       "\n",
       "    .dataframe thead th {\n",
       "        text-align: right;\n",
       "    }\n",
       "</style>\n",
       "<table border=\"1\" class=\"dataframe\">\n",
       "  <thead>\n",
       "    <tr style=\"text-align: right;\">\n",
       "      <th></th>\n",
       "      <th>ITEM_ID</th>\n",
       "      <th>ITEM_NAME</th>\n",
       "      <th>ITEM_TYPE</th>\n",
       "    </tr>\n",
       "  </thead>\n",
       "  <tbody>\n",
       "    <tr>\n",
       "      <th>0</th>\n",
       "      <td>I0</td>\n",
       "      <td>Charred Chicken Marketbowl</td>\n",
       "      <td>Mains</td>\n",
       "    </tr>\n",
       "    <tr>\n",
       "      <th>1</th>\n",
       "      <td>I1</td>\n",
       "      <td>Spicy Meatballs Marketbowl</td>\n",
       "      <td>Mains</td>\n",
       "    </tr>\n",
       "    <tr>\n",
       "      <th>2</th>\n",
       "      <td>I2</td>\n",
       "      <td>Grilled Organic Tofu Marketbowl</td>\n",
       "      <td>Mains</td>\n",
       "    </tr>\n",
       "    <tr>\n",
       "      <th>3</th>\n",
       "      <td>I3</td>\n",
       "      <td>Herb Roasted Chicken Marketbowl</td>\n",
       "      <td>Mains</td>\n",
       "    </tr>\n",
       "    <tr>\n",
       "      <th>4</th>\n",
       "      <td>I4</td>\n",
       "      <td>Roasted Wild Alaskan Salmon Marketbowl</td>\n",
       "      <td>Mains</td>\n",
       "    </tr>\n",
       "  </tbody>\n",
       "</table>\n",
       "</div>"
      ],
      "text/plain": [
       "  ITEM_ID                               ITEM_NAME ITEM_TYPE\n",
       "0      I0              Charred Chicken Marketbowl     Mains\n",
       "1      I1              Spicy Meatballs Marketbowl     Mains\n",
       "2      I2         Grilled Organic Tofu Marketbowl     Mains\n",
       "3      I3         Herb Roasted Chicken Marketbowl     Mains\n",
       "4      I4  Roasted Wild Alaskan Salmon Marketbowl     Mains"
      ]
     },
     "execution_count": 14,
     "metadata": {},
     "output_type": "execute_result"
    }
   ],
   "source": [
    "df_items.head()"
   ]
  },
  {
   "cell_type": "code",
   "execution_count": 15,
   "id": "669b4819",
   "metadata": {},
   "outputs": [
    {
     "data": {
      "text/html": [
       "<div>\n",
       "<style scoped>\n",
       "    .dataframe tbody tr th:only-of-type {\n",
       "        vertical-align: middle;\n",
       "    }\n",
       "\n",
       "    .dataframe tbody tr th {\n",
       "        vertical-align: top;\n",
       "    }\n",
       "\n",
       "    .dataframe thead th {\n",
       "        text-align: right;\n",
       "    }\n",
       "</style>\n",
       "<table border=\"1\" class=\"dataframe\">\n",
       "  <thead>\n",
       "    <tr style=\"text-align: right;\">\n",
       "      <th></th>\n",
       "      <th>name</th>\n",
       "      <th>serving</th>\n",
       "      <th>calories</th>\n",
       "      <th>totalfat</th>\n",
       "      <th>satfat</th>\n",
       "      <th>transfat</th>\n",
       "      <th>chol</th>\n",
       "      <th>sodium</th>\n",
       "      <th>carbs</th>\n",
       "      <th>fiber</th>\n",
       "      <th>sugars</th>\n",
       "      <th>protein</th>\n",
       "    </tr>\n",
       "  </thead>\n",
       "  <tbody>\n",
       "    <tr>\n",
       "      <th>0</th>\n",
       "      <td>Charred Chicken Marketbowl</td>\n",
       "      <td>4.00 oz</td>\n",
       "      <td>232</td>\n",
       "      <td>13g</td>\n",
       "      <td>2g</td>\n",
       "      <td>0g</td>\n",
       "      <td>134mg</td>\n",
       "      <td>302mg</td>\n",
       "      <td>1g</td>\n",
       "      <td>0g</td>\n",
       "      <td>0g</td>\n",
       "      <td>25g</td>\n",
       "    </tr>\n",
       "    <tr>\n",
       "      <th>1</th>\n",
       "      <td>Spicy Meatballs Marketbowl</td>\n",
       "      <td>7.35 oz</td>\n",
       "      <td>227</td>\n",
       "      <td>7g</td>\n",
       "      <td>0g</td>\n",
       "      <td>0g</td>\n",
       "      <td>50mg</td>\n",
       "      <td>1013mg</td>\n",
       "      <td>22g</td>\n",
       "      <td>4g</td>\n",
       "      <td>7g</td>\n",
       "      <td>14g</td>\n",
       "    </tr>\n",
       "    <tr>\n",
       "      <th>2</th>\n",
       "      <td>Grilled Organic Tofu Marketbowl</td>\n",
       "      <td>5.00 oz</td>\n",
       "      <td>283</td>\n",
       "      <td>23g</td>\n",
       "      <td>2g</td>\n",
       "      <td>0g</td>\n",
       "      <td>0mg</td>\n",
       "      <td>419mg</td>\n",
       "      <td>9g</td>\n",
       "      <td>1g</td>\n",
       "      <td>3g</td>\n",
       "      <td>11g</td>\n",
       "    </tr>\n",
       "    <tr>\n",
       "      <th>3</th>\n",
       "      <td>Herb Roasted Chicken Marketbowl</td>\n",
       "      <td>4.50 oz</td>\n",
       "      <td>180</td>\n",
       "      <td>6g</td>\n",
       "      <td>0g</td>\n",
       "      <td>0g</td>\n",
       "      <td>67mg</td>\n",
       "      <td>427mg</td>\n",
       "      <td>0g</td>\n",
       "      <td>0g</td>\n",
       "      <td>0g</td>\n",
       "      <td>22g</td>\n",
       "    </tr>\n",
       "    <tr>\n",
       "      <th>4</th>\n",
       "      <td>Roasted Wild Alaskan Salmon Marketbowl</td>\n",
       "      <td>4.00 oz</td>\n",
       "      <td>146</td>\n",
       "      <td>6g</td>\n",
       "      <td>0g</td>\n",
       "      <td>0g</td>\n",
       "      <td>60mg</td>\n",
       "      <td>266mg</td>\n",
       "      <td>0g</td>\n",
       "      <td>0g</td>\n",
       "      <td>0g</td>\n",
       "      <td>20g</td>\n",
       "    </tr>\n",
       "  </tbody>\n",
       "</table>\n",
       "</div>"
      ],
      "text/plain": [
       "                                     name  serving calories totalfat satfat  \\\n",
       "0              Charred Chicken Marketbowl  4.00 oz      232      13g     2g   \n",
       "1              Spicy Meatballs Marketbowl  7.35 oz      227       7g     0g   \n",
       "2         Grilled Organic Tofu Marketbowl  5.00 oz      283      23g     2g   \n",
       "3         Herb Roasted Chicken Marketbowl  4.50 oz      180       6g     0g   \n",
       "4  Roasted Wild Alaskan Salmon Marketbowl  4.00 oz      146       6g     0g   \n",
       "\n",
       "  transfat   chol  sodium carbs fiber sugars protein  \n",
       "0       0g  134mg   302mg    1g    0g     0g     25g  \n",
       "1       0g   50mg  1013mg   22g    4g     7g     14g  \n",
       "2       0g    0mg   419mg    9g    1g     3g     11g  \n",
       "3       0g   67mg   427mg    0g    0g     0g     22g  \n",
       "4       0g   60mg   266mg    0g    0g     0g     20g  "
      ]
     },
     "execution_count": 15,
     "metadata": {},
     "output_type": "execute_result"
    }
   ],
   "source": [
    "df_nutrition.head()"
   ]
  },
  {
   "cell_type": "markdown",
   "id": "9b4b89c2",
   "metadata": {},
   "source": [
    "## Data Cleaning - Duplicated and Missing Values"
   ]
  },
  {
   "cell_type": "code",
   "execution_count": 16,
   "id": "799f245b",
   "metadata": {},
   "outputs": [
    {
     "data": {
      "text/plain": [
       "0"
      ]
     },
     "execution_count": 16,
     "metadata": {},
     "output_type": "execute_result"
    }
   ],
   "source": [
    "# ORDER_ID column is the primary key, we will check duplicated records for that column\n",
    "df_orders.ORDER_ID.duplicated().sum()"
   ]
  },
  {
   "cell_type": "code",
   "execution_count": 17,
   "id": "6b8cf01a",
   "metadata": {},
   "outputs": [],
   "source": [
    "\n",
    "df_dups = df_orders[df_orders.duplicated()]"
   ]
  },
  {
   "cell_type": "code",
   "execution_count": 18,
   "id": "7c850548",
   "metadata": {},
   "outputs": [
    {
     "data": {
      "text/plain": [
       "(0, 10)"
      ]
     },
     "execution_count": 18,
     "metadata": {},
     "output_type": "execute_result"
    }
   ],
   "source": [
    "df_dups.shape"
   ]
  },
  {
   "cell_type": "code",
   "execution_count": 19,
   "id": "9645a680",
   "metadata": {},
   "outputs": [],
   "source": [
    "# we have no cleaning issues with  restaurants data "
   ]
  },
  {
   "cell_type": "code",
   "execution_count": 20,
   "id": "d9f28259",
   "metadata": {},
   "outputs": [
    {
     "data": {
      "text/plain": [
       "0"
      ]
     },
     "execution_count": 20,
     "metadata": {},
     "output_type": "execute_result"
    }
   ],
   "source": [
    "df_items.ITEM_ID.duplicated().sum()"
   ]
  },
  {
   "cell_type": "code",
   "execution_count": 21,
   "id": "d0018a5e",
   "metadata": {},
   "outputs": [
    {
     "data": {
      "text/plain": [
       "10"
      ]
     },
     "execution_count": 21,
     "metadata": {},
     "output_type": "execute_result"
    }
   ],
   "source": [
    "df_nutrition.name.duplicated().sum()"
   ]
  },
  {
   "cell_type": "code",
   "execution_count": 22,
   "id": "4eb863e2",
   "metadata": {
    "scrolled": true
   },
   "outputs": [],
   "source": [
    "df_nutrition_cleaned= df_nutrition.drop_duplicates()"
   ]
  },
  {
   "cell_type": "code",
   "execution_count": 23,
   "id": "0c646eeb",
   "metadata": {},
   "outputs": [
    {
     "data": {
      "text/plain": [
       "(32, 12)"
      ]
     },
     "execution_count": 23,
     "metadata": {},
     "output_type": "execute_result"
    }
   ],
   "source": [
    "df_nutrition_cleaned.shape"
   ]
  },
  {
   "cell_type": "markdown",
   "id": "a50b3f9b",
   "metadata": {},
   "source": [
    "### Checking for missing values"
   ]
  },
  {
   "cell_type": "code",
   "execution_count": 24,
   "id": "efbef839",
   "metadata": {},
   "outputs": [
    {
     "data": {
      "text/plain": [
       "ORDER_ID              0\n",
       "DATETIME              0\n",
       "RESTAURANT_ID         0\n",
       "TYPE                  0\n",
       "DRINKS                0\n",
       "COOKIES               0\n",
       "MAIN             121650\n",
       "BASE             121650\n",
       "SIDE_1           121650\n",
       "SIDE_2           121650\n",
       "dtype: int64"
      ]
     },
     "execution_count": 24,
     "metadata": {},
     "output_type": "execute_result"
    }
   ],
   "source": [
    "df_orders.isna().sum()\n"
   ]
  },
  {
   "cell_type": "code",
   "execution_count": 26,
   "id": "d13a5658",
   "metadata": {},
   "outputs": [
    {
     "name": "stdout",
     "output_type": "stream",
     "text": [
      "MAIN\n",
      "BASE\n",
      "SIDE_1\n",
      "SIDE_2\n"
     ]
    }
   ],
   "source": [
    "# checking for mixed type data\n",
    "\n",
    "for col in df_orders.columns.tolist():\n",
    "      weird = (df_orders[[col]].applymap(type) != df_orders[[col]].iloc[0].apply(type)).any(axis = 1)\n",
    "      if len (df_orders[weird]) > 0:\n",
    "        print (col)"
   ]
  },
  {
   "cell_type": "code",
   "execution_count": 46,
   "id": "04650f6f",
   "metadata": {},
   "outputs": [
    {
     "name": "stdout",
     "output_type": "stream",
     "text": [
      "<class 'pandas.core.frame.DataFrame'>\n",
      "Int64Index: 3304159 entries, 0 to 3304158\n",
      "Data columns (total 19 columns):\n",
      " #   Column               Dtype         \n",
      "---  ------               -----         \n",
      " 0   ORDER_ID             object        \n",
      " 1   DATETIME             datetime64[ns]\n",
      " 2   RESTAURANT_ID        object        \n",
      " 3   TYPE                 object        \n",
      " 4   DRINKS               float64       \n",
      " 5   COOKIES              float64       \n",
      " 6   MAIN                 object        \n",
      " 7   BASE                 object        \n",
      " 8   SIDE_1               object        \n",
      " 9   SIDE_2               object        \n",
      " 10  MAIN_NAME            object        \n",
      " 11  BASE_NAME            object        \n",
      " 12  SIDE_1_NAME          object        \n",
      " 13  SIDE_2_NAME          object        \n",
      " 14  RESTAURANT_NAME      object        \n",
      " 15  MAIN_NAME_CALORIS    object        \n",
      " 16  BASE_NAME_CALORIS    object        \n",
      " 17  SIDE_1_NAME_CALORIS  object        \n",
      " 18  SIDE_2_NAME_CALORIS  object        \n",
      "dtypes: datetime64[ns](1), float64(2), object(16)\n",
      "memory usage: 504.2+ MB\n"
     ]
    }
   ],
   "source": [
    "df_orders.info()"
   ]
  },
  {
   "cell_type": "code",
   "execution_count": 49,
   "id": "a535b6f1",
   "metadata": {},
   "outputs": [],
   "source": [
    "#df_orders['mix'] = df_orders['mix'].astype('str')\n",
    "df_orders['MAIN']= df_orders['MAIN'].astype('str')"
   ]
  },
  {
   "cell_type": "code",
   "execution_count": 50,
   "id": "cd214334",
   "metadata": {},
   "outputs": [
    {
     "name": "stdout",
     "output_type": "stream",
     "text": [
      "MAIN_NAME\n",
      "BASE_NAME\n",
      "SIDE_1_NAME\n",
      "SIDE_2_NAME\n",
      "MAIN_NAME_CALORIS\n",
      "BASE_NAME_CALORIS\n",
      "SIDE_1_NAME_CALORIS\n",
      "SIDE_2_NAME_CALORIS\n"
     ]
    }
   ],
   "source": [
    "for col in df_orders.columns.tolist():\n",
    "      weird = (df_orders[[col]].applymap(type) != df_orders[[col]].iloc[0].apply(type)).any(axis = 1)\n",
    "      if len (df_orders[weird]) > 0:\n",
    "        print (col)"
   ]
  },
  {
   "cell_type": "code",
   "execution_count": 27,
   "id": "bb2886a5",
   "metadata": {},
   "outputs": [
    {
     "data": {
      "text/plain": [
       "ITEM_ID      0\n",
       "ITEM_NAME    0\n",
       "ITEM_TYPE    0\n",
       "dtype: int64"
      ]
     },
     "execution_count": 27,
     "metadata": {},
     "output_type": "execute_result"
    }
   ],
   "source": [
    "df_items.isna().sum()"
   ]
  },
  {
   "cell_type": "code",
   "execution_count": 28,
   "id": "8b95ccb2",
   "metadata": {},
   "outputs": [
    {
     "data": {
      "text/plain": [
       "name        0\n",
       "serving     0\n",
       "calories    0\n",
       "totalfat    0\n",
       "satfat      0\n",
       "transfat    0\n",
       "chol        0\n",
       "sodium      0\n",
       "carbs       0\n",
       "fiber       0\n",
       "sugars      0\n",
       "protein     0\n",
       "dtype: int64"
      ]
     },
     "execution_count": 28,
     "metadata": {},
     "output_type": "execute_result"
    }
   ],
   "source": [
    "df_nutrition_cleaned.isna().sum()"
   ]
  },
  {
   "cell_type": "code",
   "execution_count": 29,
   "id": "1ea0ec08",
   "metadata": {},
   "outputs": [
    {
     "data": {
      "text/html": [
       "<div>\n",
       "<style scoped>\n",
       "    .dataframe tbody tr th:only-of-type {\n",
       "        vertical-align: middle;\n",
       "    }\n",
       "\n",
       "    .dataframe tbody tr th {\n",
       "        vertical-align: top;\n",
       "    }\n",
       "\n",
       "    .dataframe thead th {\n",
       "        text-align: right;\n",
       "    }\n",
       "</style>\n",
       "<table border=\"1\" class=\"dataframe\">\n",
       "  <thead>\n",
       "    <tr style=\"text-align: right;\">\n",
       "      <th></th>\n",
       "      <th>ORDER_ID</th>\n",
       "      <th>DATETIME</th>\n",
       "      <th>RESTAURANT_ID</th>\n",
       "      <th>TYPE</th>\n",
       "      <th>DRINKS</th>\n",
       "      <th>COOKIES</th>\n",
       "      <th>MAIN</th>\n",
       "      <th>BASE</th>\n",
       "      <th>SIDE_1</th>\n",
       "      <th>SIDE_2</th>\n",
       "    </tr>\n",
       "  </thead>\n",
       "  <tbody>\n",
       "    <tr>\n",
       "      <th>0</th>\n",
       "      <td>O2226026</td>\n",
       "      <td>2018-12-07 19:17:45</td>\n",
       "      <td>R10001</td>\n",
       "      <td>PICKUP</td>\n",
       "      <td>2.0</td>\n",
       "      <td>2.0</td>\n",
       "      <td>NaN</td>\n",
       "      <td>NaN</td>\n",
       "      <td>NaN</td>\n",
       "      <td>NaN</td>\n",
       "    </tr>\n",
       "    <tr>\n",
       "      <th>1</th>\n",
       "      <td>O1279827</td>\n",
       "      <td>2018-07-14 21:23:43</td>\n",
       "      <td>R10006</td>\n",
       "      <td>IN_STORE</td>\n",
       "      <td>0.0</td>\n",
       "      <td>0.0</td>\n",
       "      <td>NaN</td>\n",
       "      <td>NaN</td>\n",
       "      <td>NaN</td>\n",
       "      <td>NaN</td>\n",
       "    </tr>\n",
       "    <tr>\n",
       "      <th>36</th>\n",
       "      <td>O570740</td>\n",
       "      <td>2018-03-26 13:50:59</td>\n",
       "      <td>R10008</td>\n",
       "      <td>IN_STORE</td>\n",
       "      <td>0.0</td>\n",
       "      <td>1.0</td>\n",
       "      <td>NaN</td>\n",
       "      <td>NaN</td>\n",
       "      <td>NaN</td>\n",
       "      <td>NaN</td>\n",
       "    </tr>\n",
       "    <tr>\n",
       "      <th>88</th>\n",
       "      <td>O1435661</td>\n",
       "      <td>2018-08-11 12:03:27</td>\n",
       "      <td>R10008</td>\n",
       "      <td>IN_STORE</td>\n",
       "      <td>0.0</td>\n",
       "      <td>0.0</td>\n",
       "      <td>NaN</td>\n",
       "      <td>NaN</td>\n",
       "      <td>NaN</td>\n",
       "      <td>NaN</td>\n",
       "    </tr>\n",
       "    <tr>\n",
       "      <th>118</th>\n",
       "      <td>O567217</td>\n",
       "      <td>2018-03-25 19:35:54</td>\n",
       "      <td>R10001</td>\n",
       "      <td>IN_STORE</td>\n",
       "      <td>0.0</td>\n",
       "      <td>1.0</td>\n",
       "      <td>NaN</td>\n",
       "      <td>NaN</td>\n",
       "      <td>NaN</td>\n",
       "      <td>NaN</td>\n",
       "    </tr>\n",
       "  </tbody>\n",
       "</table>\n",
       "</div>"
      ],
      "text/plain": [
       "     ORDER_ID            DATETIME RESTAURANT_ID      TYPE  DRINKS  COOKIES  \\\n",
       "0    O2226026 2018-12-07 19:17:45        R10001    PICKUP     2.0      2.0   \n",
       "1    O1279827 2018-07-14 21:23:43        R10006  IN_STORE     0.0      0.0   \n",
       "36    O570740 2018-03-26 13:50:59        R10008  IN_STORE     0.0      1.0   \n",
       "88   O1435661 2018-08-11 12:03:27        R10008  IN_STORE     0.0      0.0   \n",
       "118   O567217 2018-03-25 19:35:54        R10001  IN_STORE     0.0      1.0   \n",
       "\n",
       "    MAIN BASE SIDE_1 SIDE_2  \n",
       "0    NaN  NaN    NaN    NaN  \n",
       "1    NaN  NaN    NaN    NaN  \n",
       "36   NaN  NaN    NaN    NaN  \n",
       "88   NaN  NaN    NaN    NaN  \n",
       "118  NaN  NaN    NaN    NaN  "
      ]
     },
     "execution_count": 29,
     "metadata": {},
     "output_type": "execute_result"
    }
   ],
   "source": [
    "df_orders[df_orders.MAIN.isnull()].head()\n"
   ]
  },
  {
   "cell_type": "code",
   "execution_count": 30,
   "id": "e755f878",
   "metadata": {},
   "outputs": [],
   "source": [
    "# Replace missing mains with the words \"No main\", \"No base\", \"No side_1\", \"No side_2\" in orders file\n",
    "df_orders['MAIN'] = df_orders.MAIN.fillna('No main')\n",
    "df_orders['BASE'] = df_orders.BASE.fillna('No base')\n",
    "df_orders['SIDE_1'] = df_orders.SIDE_1.fillna('No side_1')\n",
    "df_orders['SIDE_2'] = df_orders.SIDE_2.fillna('No side_2')"
   ]
  },
  {
   "cell_type": "code",
   "execution_count": 31,
   "id": "74f123c6",
   "metadata": {},
   "outputs": [
    {
     "data": {
      "text/plain": [
       "ORDER_ID         0\n",
       "DATETIME         0\n",
       "RESTAURANT_ID    0\n",
       "TYPE             0\n",
       "DRINKS           0\n",
       "COOKIES          0\n",
       "MAIN             0\n",
       "BASE             0\n",
       "SIDE_1           0\n",
       "SIDE_2           0\n",
       "dtype: int64"
      ]
     },
     "execution_count": 31,
     "metadata": {},
     "output_type": "execute_result"
    }
   ],
   "source": [
    "df_orders.isna().sum()"
   ]
  },
  {
   "cell_type": "markdown",
   "id": "63a50329",
   "metadata": {},
   "source": [
    "## Merging data"
   ]
  },
  {
   "cell_type": "code",
   "execution_count": 32,
   "id": "826998dd",
   "metadata": {},
   "outputs": [],
   "source": [
    "# merging df_items with df_orders to add the name of the items\n",
    "item_columns = ['MAIN', 'BASE', 'SIDE_1', 'SIDE_2']\n",
    "\n",
    "for c in item_columns:\n",
    "    df_orders= pd.merge( df_orders,\n",
    "                          df_items[['ITEM_ID', 'ITEM_NAME']].rename(columns = {'ITEM_ID':c, 'ITEM_NAME':c+'_NAME'}),\n",
    "                          on = c,\n",
    "                          how = 'left',\n",
    "                          validate = 'many_to_one' )"
   ]
  },
  {
   "cell_type": "code",
   "execution_count": 33,
   "id": "50f56fc7",
   "metadata": {},
   "outputs": [
    {
     "data": {
      "text/html": [
       "<div>\n",
       "<style scoped>\n",
       "    .dataframe tbody tr th:only-of-type {\n",
       "        vertical-align: middle;\n",
       "    }\n",
       "\n",
       "    .dataframe tbody tr th {\n",
       "        vertical-align: top;\n",
       "    }\n",
       "\n",
       "    .dataframe thead th {\n",
       "        text-align: right;\n",
       "    }\n",
       "</style>\n",
       "<table border=\"1\" class=\"dataframe\">\n",
       "  <thead>\n",
       "    <tr style=\"text-align: right;\">\n",
       "      <th></th>\n",
       "      <th>ORDER_ID</th>\n",
       "      <th>DATETIME</th>\n",
       "      <th>RESTAURANT_ID</th>\n",
       "      <th>TYPE</th>\n",
       "      <th>DRINKS</th>\n",
       "      <th>COOKIES</th>\n",
       "      <th>MAIN</th>\n",
       "      <th>BASE</th>\n",
       "      <th>SIDE_1</th>\n",
       "      <th>SIDE_2</th>\n",
       "      <th>MAIN_NAME</th>\n",
       "      <th>BASE_NAME</th>\n",
       "      <th>SIDE_1_NAME</th>\n",
       "      <th>SIDE_2_NAME</th>\n",
       "    </tr>\n",
       "  </thead>\n",
       "  <tbody>\n",
       "    <tr>\n",
       "      <th>0</th>\n",
       "      <td>O2226026</td>\n",
       "      <td>2018-12-07 19:17:45</td>\n",
       "      <td>R10001</td>\n",
       "      <td>PICKUP</td>\n",
       "      <td>2.0</td>\n",
       "      <td>2.0</td>\n",
       "      <td>No main</td>\n",
       "      <td>No base</td>\n",
       "      <td>No side_1</td>\n",
       "      <td>No side_2</td>\n",
       "      <td>NaN</td>\n",
       "      <td>NaN</td>\n",
       "      <td>NaN</td>\n",
       "      <td>NaN</td>\n",
       "    </tr>\n",
       "    <tr>\n",
       "      <th>1</th>\n",
       "      <td>O1279827</td>\n",
       "      <td>2018-07-14 21:23:43</td>\n",
       "      <td>R10006</td>\n",
       "      <td>IN_STORE</td>\n",
       "      <td>0.0</td>\n",
       "      <td>0.0</td>\n",
       "      <td>No main</td>\n",
       "      <td>No base</td>\n",
       "      <td>No side_1</td>\n",
       "      <td>No side_2</td>\n",
       "      <td>NaN</td>\n",
       "      <td>NaN</td>\n",
       "      <td>NaN</td>\n",
       "      <td>NaN</td>\n",
       "    </tr>\n",
       "    <tr>\n",
       "      <th>2</th>\n",
       "      <td>O689957</td>\n",
       "      <td>2018-04-12 13:14:42</td>\n",
       "      <td>R10002</td>\n",
       "      <td>PICKUP</td>\n",
       "      <td>0.0</td>\n",
       "      <td>2.0</td>\n",
       "      <td>I1</td>\n",
       "      <td>I7</td>\n",
       "      <td>I11</td>\n",
       "      <td>I8</td>\n",
       "      <td>Spicy Meatballs Marketbowl</td>\n",
       "      <td>Farro with Summer Vegetables</td>\n",
       "      <td>Charred Broccoli with Lemon</td>\n",
       "      <td>Cauliflower with Garlic and Parmesan</td>\n",
       "    </tr>\n",
       "    <tr>\n",
       "      <th>3</th>\n",
       "      <td>O1497863</td>\n",
       "      <td>2018-08-21 18:14:23</td>\n",
       "      <td>R10007</td>\n",
       "      <td>IN_STORE</td>\n",
       "      <td>1.0</td>\n",
       "      <td>0.0</td>\n",
       "      <td>I1</td>\n",
       "      <td>I5</td>\n",
       "      <td>I10</td>\n",
       "      <td>I9</td>\n",
       "      <td>Spicy Meatballs Marketbowl</td>\n",
       "      <td>Classic Brown Rice</td>\n",
       "      <td>Roasted Sweet Potatoes</td>\n",
       "      <td>Jasper Hill Mac &amp; Cheese</td>\n",
       "    </tr>\n",
       "    <tr>\n",
       "      <th>4</th>\n",
       "      <td>O1443303</td>\n",
       "      <td>2018-08-12 18:04:44</td>\n",
       "      <td>R10006</td>\n",
       "      <td>DELIVERY</td>\n",
       "      <td>0.0</td>\n",
       "      <td>0.0</td>\n",
       "      <td>I1</td>\n",
       "      <td>I6</td>\n",
       "      <td>I10</td>\n",
       "      <td>I11</td>\n",
       "      <td>Spicy Meatballs Marketbowl</td>\n",
       "      <td>Farm Greens with Mint</td>\n",
       "      <td>Roasted Sweet Potatoes</td>\n",
       "      <td>Charred Broccoli with Lemon</td>\n",
       "    </tr>\n",
       "  </tbody>\n",
       "</table>\n",
       "</div>"
      ],
      "text/plain": [
       "   ORDER_ID            DATETIME RESTAURANT_ID      TYPE  DRINKS  COOKIES  \\\n",
       "0  O2226026 2018-12-07 19:17:45        R10001    PICKUP     2.0      2.0   \n",
       "1  O1279827 2018-07-14 21:23:43        R10006  IN_STORE     0.0      0.0   \n",
       "2   O689957 2018-04-12 13:14:42        R10002    PICKUP     0.0      2.0   \n",
       "3  O1497863 2018-08-21 18:14:23        R10007  IN_STORE     1.0      0.0   \n",
       "4  O1443303 2018-08-12 18:04:44        R10006  DELIVERY     0.0      0.0   \n",
       "\n",
       "      MAIN     BASE     SIDE_1     SIDE_2                   MAIN_NAME  \\\n",
       "0  No main  No base  No side_1  No side_2                         NaN   \n",
       "1  No main  No base  No side_1  No side_2                         NaN   \n",
       "2       I1       I7        I11         I8  Spicy Meatballs Marketbowl   \n",
       "3       I1       I5        I10         I9  Spicy Meatballs Marketbowl   \n",
       "4       I1       I6        I10        I11  Spicy Meatballs Marketbowl   \n",
       "\n",
       "                      BASE_NAME                  SIDE_1_NAME  \\\n",
       "0                           NaN                          NaN   \n",
       "1                           NaN                          NaN   \n",
       "2  Farro with Summer Vegetables  Charred Broccoli with Lemon   \n",
       "3            Classic Brown Rice       Roasted Sweet Potatoes   \n",
       "4         Farm Greens with Mint       Roasted Sweet Potatoes   \n",
       "\n",
       "                            SIDE_2_NAME  \n",
       "0                                   NaN  \n",
       "1                                   NaN  \n",
       "2  Cauliflower with Garlic and Parmesan  \n",
       "3              Jasper Hill Mac & Cheese  \n",
       "4           Charred Broccoli with Lemon  "
      ]
     },
     "execution_count": 33,
     "metadata": {},
     "output_type": "execute_result"
    }
   ],
   "source": [
    "df_orders.head()"
   ]
  },
  {
   "cell_type": "code",
   "execution_count": 34,
   "id": "9d849952",
   "metadata": {},
   "outputs": [],
   "source": [
    " df_orders = pd.merge( df_orders, df_restaurants[['RESTAURANT_ID','NAME']], on = 'RESTAURANT_ID', how = 'left')"
   ]
  },
  {
   "cell_type": "code",
   "execution_count": 35,
   "id": "8f684245",
   "metadata": {},
   "outputs": [
    {
     "data": {
      "text/html": [
       "<div>\n",
       "<style scoped>\n",
       "    .dataframe tbody tr th:only-of-type {\n",
       "        vertical-align: middle;\n",
       "    }\n",
       "\n",
       "    .dataframe tbody tr th {\n",
       "        vertical-align: top;\n",
       "    }\n",
       "\n",
       "    .dataframe thead th {\n",
       "        text-align: right;\n",
       "    }\n",
       "</style>\n",
       "<table border=\"1\" class=\"dataframe\">\n",
       "  <thead>\n",
       "    <tr style=\"text-align: right;\">\n",
       "      <th></th>\n",
       "      <th>ORDER_ID</th>\n",
       "      <th>DATETIME</th>\n",
       "      <th>RESTAURANT_ID</th>\n",
       "      <th>TYPE</th>\n",
       "      <th>DRINKS</th>\n",
       "      <th>COOKIES</th>\n",
       "      <th>MAIN</th>\n",
       "      <th>BASE</th>\n",
       "      <th>SIDE_1</th>\n",
       "      <th>SIDE_2</th>\n",
       "      <th>MAIN_NAME</th>\n",
       "      <th>BASE_NAME</th>\n",
       "      <th>SIDE_1_NAME</th>\n",
       "      <th>SIDE_2_NAME</th>\n",
       "      <th>NAME</th>\n",
       "    </tr>\n",
       "  </thead>\n",
       "  <tbody>\n",
       "    <tr>\n",
       "      <th>0</th>\n",
       "      <td>O2226026</td>\n",
       "      <td>2018-12-07 19:17:45</td>\n",
       "      <td>R10001</td>\n",
       "      <td>PICKUP</td>\n",
       "      <td>2.0</td>\n",
       "      <td>2.0</td>\n",
       "      <td>No main</td>\n",
       "      <td>No base</td>\n",
       "      <td>No side_1</td>\n",
       "      <td>No side_2</td>\n",
       "      <td>NaN</td>\n",
       "      <td>NaN</td>\n",
       "      <td>NaN</td>\n",
       "      <td>NaN</td>\n",
       "      <td>Columbia</td>\n",
       "    </tr>\n",
       "    <tr>\n",
       "      <th>1</th>\n",
       "      <td>O1279827</td>\n",
       "      <td>2018-07-14 21:23:43</td>\n",
       "      <td>R10006</td>\n",
       "      <td>IN_STORE</td>\n",
       "      <td>0.0</td>\n",
       "      <td>0.0</td>\n",
       "      <td>No main</td>\n",
       "      <td>No base</td>\n",
       "      <td>No side_1</td>\n",
       "      <td>No side_2</td>\n",
       "      <td>NaN</td>\n",
       "      <td>NaN</td>\n",
       "      <td>NaN</td>\n",
       "      <td>NaN</td>\n",
       "      <td>Upper East Side</td>\n",
       "    </tr>\n",
       "    <tr>\n",
       "      <th>2</th>\n",
       "      <td>O689957</td>\n",
       "      <td>2018-04-12 13:14:42</td>\n",
       "      <td>R10002</td>\n",
       "      <td>PICKUP</td>\n",
       "      <td>0.0</td>\n",
       "      <td>2.0</td>\n",
       "      <td>I1</td>\n",
       "      <td>I7</td>\n",
       "      <td>I11</td>\n",
       "      <td>I8</td>\n",
       "      <td>Spicy Meatballs Marketbowl</td>\n",
       "      <td>Farro with Summer Vegetables</td>\n",
       "      <td>Charred Broccoli with Lemon</td>\n",
       "      <td>Cauliflower with Garlic and Parmesan</td>\n",
       "      <td>Midtown</td>\n",
       "    </tr>\n",
       "    <tr>\n",
       "      <th>3</th>\n",
       "      <td>O1497863</td>\n",
       "      <td>2018-08-21 18:14:23</td>\n",
       "      <td>R10007</td>\n",
       "      <td>IN_STORE</td>\n",
       "      <td>1.0</td>\n",
       "      <td>0.0</td>\n",
       "      <td>I1</td>\n",
       "      <td>I5</td>\n",
       "      <td>I10</td>\n",
       "      <td>I9</td>\n",
       "      <td>Spicy Meatballs Marketbowl</td>\n",
       "      <td>Classic Brown Rice</td>\n",
       "      <td>Roasted Sweet Potatoes</td>\n",
       "      <td>Jasper Hill Mac &amp; Cheese</td>\n",
       "      <td>Upper West Side</td>\n",
       "    </tr>\n",
       "    <tr>\n",
       "      <th>4</th>\n",
       "      <td>O1443303</td>\n",
       "      <td>2018-08-12 18:04:44</td>\n",
       "      <td>R10006</td>\n",
       "      <td>DELIVERY</td>\n",
       "      <td>0.0</td>\n",
       "      <td>0.0</td>\n",
       "      <td>I1</td>\n",
       "      <td>I6</td>\n",
       "      <td>I10</td>\n",
       "      <td>I11</td>\n",
       "      <td>Spicy Meatballs Marketbowl</td>\n",
       "      <td>Farm Greens with Mint</td>\n",
       "      <td>Roasted Sweet Potatoes</td>\n",
       "      <td>Charred Broccoli with Lemon</td>\n",
       "      <td>Upper East Side</td>\n",
       "    </tr>\n",
       "  </tbody>\n",
       "</table>\n",
       "</div>"
      ],
      "text/plain": [
       "   ORDER_ID            DATETIME RESTAURANT_ID      TYPE  DRINKS  COOKIES  \\\n",
       "0  O2226026 2018-12-07 19:17:45        R10001    PICKUP     2.0      2.0   \n",
       "1  O1279827 2018-07-14 21:23:43        R10006  IN_STORE     0.0      0.0   \n",
       "2   O689957 2018-04-12 13:14:42        R10002    PICKUP     0.0      2.0   \n",
       "3  O1497863 2018-08-21 18:14:23        R10007  IN_STORE     1.0      0.0   \n",
       "4  O1443303 2018-08-12 18:04:44        R10006  DELIVERY     0.0      0.0   \n",
       "\n",
       "      MAIN     BASE     SIDE_1     SIDE_2                   MAIN_NAME  \\\n",
       "0  No main  No base  No side_1  No side_2                         NaN   \n",
       "1  No main  No base  No side_1  No side_2                         NaN   \n",
       "2       I1       I7        I11         I8  Spicy Meatballs Marketbowl   \n",
       "3       I1       I5        I10         I9  Spicy Meatballs Marketbowl   \n",
       "4       I1       I6        I10        I11  Spicy Meatballs Marketbowl   \n",
       "\n",
       "                      BASE_NAME                  SIDE_1_NAME  \\\n",
       "0                           NaN                          NaN   \n",
       "1                           NaN                          NaN   \n",
       "2  Farro with Summer Vegetables  Charred Broccoli with Lemon   \n",
       "3            Classic Brown Rice       Roasted Sweet Potatoes   \n",
       "4         Farm Greens with Mint       Roasted Sweet Potatoes   \n",
       "\n",
       "                            SIDE_2_NAME             NAME  \n",
       "0                                   NaN         Columbia  \n",
       "1                                   NaN  Upper East Side  \n",
       "2  Cauliflower with Garlic and Parmesan          Midtown  \n",
       "3              Jasper Hill Mac & Cheese  Upper West Side  \n",
       "4           Charred Broccoli with Lemon  Upper East Side  "
      ]
     },
     "execution_count": 35,
     "metadata": {},
     "output_type": "execute_result"
    }
   ],
   "source": [
    "df_orders.head()"
   ]
  },
  {
   "cell_type": "code",
   "execution_count": 36,
   "id": "34031765",
   "metadata": {},
   "outputs": [],
   "source": [
    "df_orders = df_orders.rename(columns= {'NAME': 'RESTAURANT_NAME'})"
   ]
  },
  {
   "cell_type": "code",
   "execution_count": 37,
   "id": "72d03a66",
   "metadata": {},
   "outputs": [
    {
     "data": {
      "text/html": [
       "<div>\n",
       "<style scoped>\n",
       "    .dataframe tbody tr th:only-of-type {\n",
       "        vertical-align: middle;\n",
       "    }\n",
       "\n",
       "    .dataframe tbody tr th {\n",
       "        vertical-align: top;\n",
       "    }\n",
       "\n",
       "    .dataframe thead th {\n",
       "        text-align: right;\n",
       "    }\n",
       "</style>\n",
       "<table border=\"1\" class=\"dataframe\">\n",
       "  <thead>\n",
       "    <tr style=\"text-align: right;\">\n",
       "      <th></th>\n",
       "      <th>ORDER_ID</th>\n",
       "      <th>DATETIME</th>\n",
       "      <th>RESTAURANT_ID</th>\n",
       "      <th>TYPE</th>\n",
       "      <th>DRINKS</th>\n",
       "      <th>COOKIES</th>\n",
       "      <th>MAIN</th>\n",
       "      <th>BASE</th>\n",
       "      <th>SIDE_1</th>\n",
       "      <th>SIDE_2</th>\n",
       "      <th>MAIN_NAME</th>\n",
       "      <th>BASE_NAME</th>\n",
       "      <th>SIDE_1_NAME</th>\n",
       "      <th>SIDE_2_NAME</th>\n",
       "      <th>RESTAURANT_NAME</th>\n",
       "    </tr>\n",
       "  </thead>\n",
       "  <tbody>\n",
       "    <tr>\n",
       "      <th>0</th>\n",
       "      <td>O2226026</td>\n",
       "      <td>2018-12-07 19:17:45</td>\n",
       "      <td>R10001</td>\n",
       "      <td>PICKUP</td>\n",
       "      <td>2.0</td>\n",
       "      <td>2.0</td>\n",
       "      <td>No main</td>\n",
       "      <td>No base</td>\n",
       "      <td>No side_1</td>\n",
       "      <td>No side_2</td>\n",
       "      <td>NaN</td>\n",
       "      <td>NaN</td>\n",
       "      <td>NaN</td>\n",
       "      <td>NaN</td>\n",
       "      <td>Columbia</td>\n",
       "    </tr>\n",
       "    <tr>\n",
       "      <th>1</th>\n",
       "      <td>O1279827</td>\n",
       "      <td>2018-07-14 21:23:43</td>\n",
       "      <td>R10006</td>\n",
       "      <td>IN_STORE</td>\n",
       "      <td>0.0</td>\n",
       "      <td>0.0</td>\n",
       "      <td>No main</td>\n",
       "      <td>No base</td>\n",
       "      <td>No side_1</td>\n",
       "      <td>No side_2</td>\n",
       "      <td>NaN</td>\n",
       "      <td>NaN</td>\n",
       "      <td>NaN</td>\n",
       "      <td>NaN</td>\n",
       "      <td>Upper East Side</td>\n",
       "    </tr>\n",
       "    <tr>\n",
       "      <th>2</th>\n",
       "      <td>O689957</td>\n",
       "      <td>2018-04-12 13:14:42</td>\n",
       "      <td>R10002</td>\n",
       "      <td>PICKUP</td>\n",
       "      <td>0.0</td>\n",
       "      <td>2.0</td>\n",
       "      <td>I1</td>\n",
       "      <td>I7</td>\n",
       "      <td>I11</td>\n",
       "      <td>I8</td>\n",
       "      <td>Spicy Meatballs Marketbowl</td>\n",
       "      <td>Farro with Summer Vegetables</td>\n",
       "      <td>Charred Broccoli with Lemon</td>\n",
       "      <td>Cauliflower with Garlic and Parmesan</td>\n",
       "      <td>Midtown</td>\n",
       "    </tr>\n",
       "    <tr>\n",
       "      <th>3</th>\n",
       "      <td>O1497863</td>\n",
       "      <td>2018-08-21 18:14:23</td>\n",
       "      <td>R10007</td>\n",
       "      <td>IN_STORE</td>\n",
       "      <td>1.0</td>\n",
       "      <td>0.0</td>\n",
       "      <td>I1</td>\n",
       "      <td>I5</td>\n",
       "      <td>I10</td>\n",
       "      <td>I9</td>\n",
       "      <td>Spicy Meatballs Marketbowl</td>\n",
       "      <td>Classic Brown Rice</td>\n",
       "      <td>Roasted Sweet Potatoes</td>\n",
       "      <td>Jasper Hill Mac &amp; Cheese</td>\n",
       "      <td>Upper West Side</td>\n",
       "    </tr>\n",
       "    <tr>\n",
       "      <th>4</th>\n",
       "      <td>O1443303</td>\n",
       "      <td>2018-08-12 18:04:44</td>\n",
       "      <td>R10006</td>\n",
       "      <td>DELIVERY</td>\n",
       "      <td>0.0</td>\n",
       "      <td>0.0</td>\n",
       "      <td>I1</td>\n",
       "      <td>I6</td>\n",
       "      <td>I10</td>\n",
       "      <td>I11</td>\n",
       "      <td>Spicy Meatballs Marketbowl</td>\n",
       "      <td>Farm Greens with Mint</td>\n",
       "      <td>Roasted Sweet Potatoes</td>\n",
       "      <td>Charred Broccoli with Lemon</td>\n",
       "      <td>Upper East Side</td>\n",
       "    </tr>\n",
       "  </tbody>\n",
       "</table>\n",
       "</div>"
      ],
      "text/plain": [
       "   ORDER_ID            DATETIME RESTAURANT_ID      TYPE  DRINKS  COOKIES  \\\n",
       "0  O2226026 2018-12-07 19:17:45        R10001    PICKUP     2.0      2.0   \n",
       "1  O1279827 2018-07-14 21:23:43        R10006  IN_STORE     0.0      0.0   \n",
       "2   O689957 2018-04-12 13:14:42        R10002    PICKUP     0.0      2.0   \n",
       "3  O1497863 2018-08-21 18:14:23        R10007  IN_STORE     1.0      0.0   \n",
       "4  O1443303 2018-08-12 18:04:44        R10006  DELIVERY     0.0      0.0   \n",
       "\n",
       "      MAIN     BASE     SIDE_1     SIDE_2                   MAIN_NAME  \\\n",
       "0  No main  No base  No side_1  No side_2                         NaN   \n",
       "1  No main  No base  No side_1  No side_2                         NaN   \n",
       "2       I1       I7        I11         I8  Spicy Meatballs Marketbowl   \n",
       "3       I1       I5        I10         I9  Spicy Meatballs Marketbowl   \n",
       "4       I1       I6        I10        I11  Spicy Meatballs Marketbowl   \n",
       "\n",
       "                      BASE_NAME                  SIDE_1_NAME  \\\n",
       "0                           NaN                          NaN   \n",
       "1                           NaN                          NaN   \n",
       "2  Farro with Summer Vegetables  Charred Broccoli with Lemon   \n",
       "3            Classic Brown Rice       Roasted Sweet Potatoes   \n",
       "4         Farm Greens with Mint       Roasted Sweet Potatoes   \n",
       "\n",
       "                            SIDE_2_NAME  RESTAURANT_NAME  \n",
       "0                                   NaN         Columbia  \n",
       "1                                   NaN  Upper East Side  \n",
       "2  Cauliflower with Garlic and Parmesan          Midtown  \n",
       "3              Jasper Hill Mac & Cheese  Upper West Side  \n",
       "4           Charred Broccoli with Lemon  Upper East Side  "
      ]
     },
     "execution_count": 37,
     "metadata": {},
     "output_type": "execute_result"
    }
   ],
   "source": [
    "df_orders.head()"
   ]
  },
  {
   "cell_type": "code",
   "execution_count": 38,
   "id": "b54c8ffc",
   "metadata": {},
   "outputs": [
    {
     "data": {
      "text/html": [
       "<div>\n",
       "<style scoped>\n",
       "    .dataframe tbody tr th:only-of-type {\n",
       "        vertical-align: middle;\n",
       "    }\n",
       "\n",
       "    .dataframe tbody tr th {\n",
       "        vertical-align: top;\n",
       "    }\n",
       "\n",
       "    .dataframe thead th {\n",
       "        text-align: right;\n",
       "    }\n",
       "</style>\n",
       "<table border=\"1\" class=\"dataframe\">\n",
       "  <thead>\n",
       "    <tr style=\"text-align: right;\">\n",
       "      <th></th>\n",
       "      <th>name</th>\n",
       "      <th>serving</th>\n",
       "      <th>calories</th>\n",
       "      <th>totalfat</th>\n",
       "      <th>satfat</th>\n",
       "      <th>transfat</th>\n",
       "      <th>chol</th>\n",
       "      <th>sodium</th>\n",
       "      <th>carbs</th>\n",
       "      <th>fiber</th>\n",
       "      <th>sugars</th>\n",
       "      <th>protein</th>\n",
       "    </tr>\n",
       "  </thead>\n",
       "  <tbody>\n",
       "    <tr>\n",
       "      <th>0</th>\n",
       "      <td>Charred Chicken Marketbowl</td>\n",
       "      <td>4.00 oz</td>\n",
       "      <td>232</td>\n",
       "      <td>13g</td>\n",
       "      <td>2g</td>\n",
       "      <td>0g</td>\n",
       "      <td>134mg</td>\n",
       "      <td>302mg</td>\n",
       "      <td>1g</td>\n",
       "      <td>0g</td>\n",
       "      <td>0g</td>\n",
       "      <td>25g</td>\n",
       "    </tr>\n",
       "    <tr>\n",
       "      <th>1</th>\n",
       "      <td>Spicy Meatballs Marketbowl</td>\n",
       "      <td>7.35 oz</td>\n",
       "      <td>227</td>\n",
       "      <td>7g</td>\n",
       "      <td>0g</td>\n",
       "      <td>0g</td>\n",
       "      <td>50mg</td>\n",
       "      <td>1013mg</td>\n",
       "      <td>22g</td>\n",
       "      <td>4g</td>\n",
       "      <td>7g</td>\n",
       "      <td>14g</td>\n",
       "    </tr>\n",
       "    <tr>\n",
       "      <th>2</th>\n",
       "      <td>Grilled Organic Tofu Marketbowl</td>\n",
       "      <td>5.00 oz</td>\n",
       "      <td>283</td>\n",
       "      <td>23g</td>\n",
       "      <td>2g</td>\n",
       "      <td>0g</td>\n",
       "      <td>0mg</td>\n",
       "      <td>419mg</td>\n",
       "      <td>9g</td>\n",
       "      <td>1g</td>\n",
       "      <td>3g</td>\n",
       "      <td>11g</td>\n",
       "    </tr>\n",
       "    <tr>\n",
       "      <th>3</th>\n",
       "      <td>Herb Roasted Chicken Marketbowl</td>\n",
       "      <td>4.50 oz</td>\n",
       "      <td>180</td>\n",
       "      <td>6g</td>\n",
       "      <td>0g</td>\n",
       "      <td>0g</td>\n",
       "      <td>67mg</td>\n",
       "      <td>427mg</td>\n",
       "      <td>0g</td>\n",
       "      <td>0g</td>\n",
       "      <td>0g</td>\n",
       "      <td>22g</td>\n",
       "    </tr>\n",
       "    <tr>\n",
       "      <th>4</th>\n",
       "      <td>Roasted Wild Alaskan Salmon Marketbowl</td>\n",
       "      <td>4.00 oz</td>\n",
       "      <td>146</td>\n",
       "      <td>6g</td>\n",
       "      <td>0g</td>\n",
       "      <td>0g</td>\n",
       "      <td>60mg</td>\n",
       "      <td>266mg</td>\n",
       "      <td>0g</td>\n",
       "      <td>0g</td>\n",
       "      <td>0g</td>\n",
       "      <td>20g</td>\n",
       "    </tr>\n",
       "  </tbody>\n",
       "</table>\n",
       "</div>"
      ],
      "text/plain": [
       "                                     name  serving calories totalfat satfat  \\\n",
       "0              Charred Chicken Marketbowl  4.00 oz      232      13g     2g   \n",
       "1              Spicy Meatballs Marketbowl  7.35 oz      227       7g     0g   \n",
       "2         Grilled Organic Tofu Marketbowl  5.00 oz      283      23g     2g   \n",
       "3         Herb Roasted Chicken Marketbowl  4.50 oz      180       6g     0g   \n",
       "4  Roasted Wild Alaskan Salmon Marketbowl  4.00 oz      146       6g     0g   \n",
       "\n",
       "  transfat   chol  sodium carbs fiber sugars protein  \n",
       "0       0g  134mg   302mg    1g    0g     0g     25g  \n",
       "1       0g   50mg  1013mg   22g    4g     7g     14g  \n",
       "2       0g    0mg   419mg    9g    1g     3g     11g  \n",
       "3       0g   67mg   427mg    0g    0g     0g     22g  \n",
       "4       0g   60mg   266mg    0g    0g     0g     20g  "
      ]
     },
     "execution_count": 38,
     "metadata": {},
     "output_type": "execute_result"
    }
   ],
   "source": [
    "df_nutrition_cleaned.head()"
   ]
  },
  {
   "cell_type": "code",
   "execution_count": 39,
   "id": "110d134b",
   "metadata": {},
   "outputs": [],
   "source": [
    "# merging df_orders with df_nutrion to define the main questions\n",
    "item_columns = ['MAIN_NAME', 'BASE_NAME', 'SIDE_1_NAME', 'SIDE_2_NAME']\n",
    "\n",
    "for c in item_columns:\n",
    "    df_orders = pd.merge( df_orders,\n",
    "                          df_nutrition_cleaned[['name', 'calories']].rename(columns = {'name':c, 'calories':c+'_CALORIS'}),\n",
    "                          on = c,\n",
    "                          how = 'left', validate= 'many_to_many')"
   ]
  },
  {
   "cell_type": "code",
   "execution_count": 40,
   "id": "c68cbfe5",
   "metadata": {
    "scrolled": true
   },
   "outputs": [
    {
     "data": {
      "text/html": [
       "<div>\n",
       "<style scoped>\n",
       "    .dataframe tbody tr th:only-of-type {\n",
       "        vertical-align: middle;\n",
       "    }\n",
       "\n",
       "    .dataframe tbody tr th {\n",
       "        vertical-align: top;\n",
       "    }\n",
       "\n",
       "    .dataframe thead th {\n",
       "        text-align: right;\n",
       "    }\n",
       "</style>\n",
       "<table border=\"1\" class=\"dataframe\">\n",
       "  <thead>\n",
       "    <tr style=\"text-align: right;\">\n",
       "      <th></th>\n",
       "      <th>ORDER_ID</th>\n",
       "      <th>DATETIME</th>\n",
       "      <th>RESTAURANT_ID</th>\n",
       "      <th>TYPE</th>\n",
       "      <th>DRINKS</th>\n",
       "      <th>COOKIES</th>\n",
       "      <th>MAIN</th>\n",
       "      <th>BASE</th>\n",
       "      <th>SIDE_1</th>\n",
       "      <th>SIDE_2</th>\n",
       "      <th>MAIN_NAME</th>\n",
       "      <th>BASE_NAME</th>\n",
       "      <th>SIDE_1_NAME</th>\n",
       "      <th>SIDE_2_NAME</th>\n",
       "      <th>RESTAURANT_NAME</th>\n",
       "      <th>MAIN_NAME_CALORIS</th>\n",
       "      <th>BASE_NAME_CALORIS</th>\n",
       "      <th>SIDE_1_NAME_CALORIS</th>\n",
       "      <th>SIDE_2_NAME_CALORIS</th>\n",
       "    </tr>\n",
       "  </thead>\n",
       "  <tbody>\n",
       "    <tr>\n",
       "      <th>0</th>\n",
       "      <td>O2226026</td>\n",
       "      <td>2018-12-07 19:17:45</td>\n",
       "      <td>R10001</td>\n",
       "      <td>PICKUP</td>\n",
       "      <td>2.0</td>\n",
       "      <td>2.0</td>\n",
       "      <td>No main</td>\n",
       "      <td>No base</td>\n",
       "      <td>No side_1</td>\n",
       "      <td>No side_2</td>\n",
       "      <td>NaN</td>\n",
       "      <td>NaN</td>\n",
       "      <td>NaN</td>\n",
       "      <td>NaN</td>\n",
       "      <td>Columbia</td>\n",
       "      <td>NaN</td>\n",
       "      <td>NaN</td>\n",
       "      <td>NaN</td>\n",
       "      <td>NaN</td>\n",
       "    </tr>\n",
       "    <tr>\n",
       "      <th>1</th>\n",
       "      <td>O1279827</td>\n",
       "      <td>2018-07-14 21:23:43</td>\n",
       "      <td>R10006</td>\n",
       "      <td>IN_STORE</td>\n",
       "      <td>0.0</td>\n",
       "      <td>0.0</td>\n",
       "      <td>No main</td>\n",
       "      <td>No base</td>\n",
       "      <td>No side_1</td>\n",
       "      <td>No side_2</td>\n",
       "      <td>NaN</td>\n",
       "      <td>NaN</td>\n",
       "      <td>NaN</td>\n",
       "      <td>NaN</td>\n",
       "      <td>Upper East Side</td>\n",
       "      <td>NaN</td>\n",
       "      <td>NaN</td>\n",
       "      <td>NaN</td>\n",
       "      <td>NaN</td>\n",
       "    </tr>\n",
       "    <tr>\n",
       "      <th>2</th>\n",
       "      <td>O689957</td>\n",
       "      <td>2018-04-12 13:14:42</td>\n",
       "      <td>R10002</td>\n",
       "      <td>PICKUP</td>\n",
       "      <td>0.0</td>\n",
       "      <td>2.0</td>\n",
       "      <td>I1</td>\n",
       "      <td>I7</td>\n",
       "      <td>I11</td>\n",
       "      <td>I8</td>\n",
       "      <td>Spicy Meatballs Marketbowl</td>\n",
       "      <td>Farro with Summer Vegetables</td>\n",
       "      <td>Charred Broccoli with Lemon</td>\n",
       "      <td>Cauliflower with Garlic and Parmesan</td>\n",
       "      <td>Midtown</td>\n",
       "      <td>227</td>\n",
       "      <td>170</td>\n",
       "      <td>177</td>\n",
       "      <td>90</td>\n",
       "    </tr>\n",
       "    <tr>\n",
       "      <th>3</th>\n",
       "      <td>O1497863</td>\n",
       "      <td>2018-08-21 18:14:23</td>\n",
       "      <td>R10007</td>\n",
       "      <td>IN_STORE</td>\n",
       "      <td>1.0</td>\n",
       "      <td>0.0</td>\n",
       "      <td>I1</td>\n",
       "      <td>I5</td>\n",
       "      <td>I10</td>\n",
       "      <td>I9</td>\n",
       "      <td>Spicy Meatballs Marketbowl</td>\n",
       "      <td>Classic Brown Rice</td>\n",
       "      <td>Roasted Sweet Potatoes</td>\n",
       "      <td>Jasper Hill Mac &amp; Cheese</td>\n",
       "      <td>Upper West Side</td>\n",
       "      <td>227</td>\n",
       "      <td>160</td>\n",
       "      <td>140</td>\n",
       "      <td>361</td>\n",
       "    </tr>\n",
       "    <tr>\n",
       "      <th>4</th>\n",
       "      <td>O1497863</td>\n",
       "      <td>2018-08-21 18:14:23</td>\n",
       "      <td>R10007</td>\n",
       "      <td>IN_STORE</td>\n",
       "      <td>1.0</td>\n",
       "      <td>0.0</td>\n",
       "      <td>I1</td>\n",
       "      <td>I5</td>\n",
       "      <td>I10</td>\n",
       "      <td>I9</td>\n",
       "      <td>Spicy Meatballs Marketbowl</td>\n",
       "      <td>Classic Brown Rice</td>\n",
       "      <td>Roasted Sweet Potatoes</td>\n",
       "      <td>Jasper Hill Mac &amp; Cheese</td>\n",
       "      <td>Upper West Side</td>\n",
       "      <td>227</td>\n",
       "      <td>160</td>\n",
       "      <td>170</td>\n",
       "      <td>361</td>\n",
       "    </tr>\n",
       "  </tbody>\n",
       "</table>\n",
       "</div>"
      ],
      "text/plain": [
       "   ORDER_ID            DATETIME RESTAURANT_ID      TYPE  DRINKS  COOKIES  \\\n",
       "0  O2226026 2018-12-07 19:17:45        R10001    PICKUP     2.0      2.0   \n",
       "1  O1279827 2018-07-14 21:23:43        R10006  IN_STORE     0.0      0.0   \n",
       "2   O689957 2018-04-12 13:14:42        R10002    PICKUP     0.0      2.0   \n",
       "3  O1497863 2018-08-21 18:14:23        R10007  IN_STORE     1.0      0.0   \n",
       "4  O1497863 2018-08-21 18:14:23        R10007  IN_STORE     1.0      0.0   \n",
       "\n",
       "      MAIN     BASE     SIDE_1     SIDE_2                   MAIN_NAME  \\\n",
       "0  No main  No base  No side_1  No side_2                         NaN   \n",
       "1  No main  No base  No side_1  No side_2                         NaN   \n",
       "2       I1       I7        I11         I8  Spicy Meatballs Marketbowl   \n",
       "3       I1       I5        I10         I9  Spicy Meatballs Marketbowl   \n",
       "4       I1       I5        I10         I9  Spicy Meatballs Marketbowl   \n",
       "\n",
       "                      BASE_NAME                  SIDE_1_NAME  \\\n",
       "0                           NaN                          NaN   \n",
       "1                           NaN                          NaN   \n",
       "2  Farro with Summer Vegetables  Charred Broccoli with Lemon   \n",
       "3            Classic Brown Rice       Roasted Sweet Potatoes   \n",
       "4            Classic Brown Rice       Roasted Sweet Potatoes   \n",
       "\n",
       "                            SIDE_2_NAME  RESTAURANT_NAME MAIN_NAME_CALORIS  \\\n",
       "0                                   NaN         Columbia               NaN   \n",
       "1                                   NaN  Upper East Side               NaN   \n",
       "2  Cauliflower with Garlic and Parmesan          Midtown               227   \n",
       "3              Jasper Hill Mac & Cheese  Upper West Side               227   \n",
       "4              Jasper Hill Mac & Cheese  Upper West Side               227   \n",
       "\n",
       "  BASE_NAME_CALORIS SIDE_1_NAME_CALORIS SIDE_2_NAME_CALORIS  \n",
       "0               NaN                 NaN                 NaN  \n",
       "1               NaN                 NaN                 NaN  \n",
       "2               170                 177                  90  \n",
       "3               160                 140                 361  \n",
       "4               160                 170                 361  "
      ]
     },
     "execution_count": 40,
     "metadata": {},
     "output_type": "execute_result"
    }
   ],
   "source": [
    "df_orders.head()"
   ]
  },
  {
   "cell_type": "code",
   "execution_count": 41,
   "id": "34da9fc0",
   "metadata": {},
   "outputs": [
    {
     "data": {
      "text/plain": [
       "(3304159, 19)"
      ]
     },
     "execution_count": 41,
     "metadata": {},
     "output_type": "execute_result"
    }
   ],
   "source": [
    "df_orders.shape"
   ]
  },
  {
   "cell_type": "code",
   "execution_count": 42,
   "id": "4cefd5bc",
   "metadata": {},
   "outputs": [
    {
     "data": {
      "text/plain": [
       "IN_STORE    2374727\n",
       "PICKUP       552461\n",
       "DELIVERY     376971\n",
       "Name: TYPE, dtype: int64"
      ]
     },
     "execution_count": 42,
     "metadata": {},
     "output_type": "execute_result"
    }
   ],
   "source": [
    "df_orders['TYPE'].value_counts()"
   ]
  },
  {
   "cell_type": "code",
   "execution_count": 43,
   "id": "52c0ecc9",
   "metadata": {},
   "outputs": [],
   "source": [
    "df_orders.to_pickle(os.path.join(path, 'Data','Prepared Data', 'orders.pkl'))"
   ]
  },
  {
   "cell_type": "code",
   "execution_count": null,
   "id": "95143b0c",
   "metadata": {},
   "outputs": [],
   "source": []
  },
  {
   "cell_type": "code",
   "execution_count": null,
   "id": "790a0095",
   "metadata": {},
   "outputs": [],
   "source": []
  },
  {
   "cell_type": "code",
   "execution_count": null,
   "id": "15d3b717",
   "metadata": {},
   "outputs": [],
   "source": []
  },
  {
   "cell_type": "code",
   "execution_count": null,
   "id": "05aa0d19",
   "metadata": {},
   "outputs": [],
   "source": []
  },
  {
   "cell_type": "code",
   "execution_count": null,
   "id": "b5d2b46f",
   "metadata": {},
   "outputs": [],
   "source": []
  }
 ],
 "metadata": {
  "kernelspec": {
   "display_name": "Python 3 (ipykernel)",
   "language": "python",
   "name": "python3"
  },
  "language_info": {
   "codemirror_mode": {
    "name": "ipython",
    "version": 3
   },
   "file_extension": ".py",
   "mimetype": "text/x-python",
   "name": "python",
   "nbconvert_exporter": "python",
   "pygments_lexer": "ipython3",
   "version": "3.10.9"
  }
 },
 "nbformat": 4,
 "nbformat_minor": 5
}
