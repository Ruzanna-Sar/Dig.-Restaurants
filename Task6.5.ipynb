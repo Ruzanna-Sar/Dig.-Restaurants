{
 "cells": [
  {
   "cell_type": "markdown",
   "metadata": {},
   "source": [
    "## 6.5: Unsupervised Machine Learning: Clustering"
   ]
  },
  {
   "cell_type": "markdown",
   "metadata": {},
   "source": [
    "### This script contains the following:\n",
    "\n",
    "#### 1. Importing libraries and data and renaming columns\n",
    "#### 2. The elbow technique\n",
    "#### 3. k-means clustering"
   ]
  },
  {
   "cell_type": "markdown",
   "metadata": {},
   "source": [
    "## Step 1\n",
    "### Install and import all necessary libraries in your Jupyter notebook."
   ]
  },
  {
   "cell_type": "code",
   "execution_count": 1,
   "metadata": {},
   "outputs": [],
   "source": [
    "import pandas as pd\n",
    "import numpy as np\n",
    "import seaborn as sns\n",
    "import matplotlib\n",
    "import matplotlib.pyplot as plt\n",
    "import os\n",
    "import sklearn\n",
    "from sklearn.cluster import KMeans # Here is where you import the k-means algorithm from scikit-learn.\n",
    "import pylab as pl # PyLab is a convenience module that bulk imports matplotlib."
   ]
  },
  {
   "cell_type": "code",
   "execution_count": 2,
   "metadata": {},
   "outputs": [],
   "source": [
    "# This option ensures the graphs you create are displayed in your notebook without the need to \"call\" them specifically.\n",
    "\n",
    "%matplotlib inline"
   ]
  },
  {
   "cell_type": "markdown",
   "metadata": {},
   "source": [
    "## Step 2\n",
    "### Import your data and conduct any necessary cleaning, manipulations, and reprocessing (such as renaming). Recall from the Exercise that the k-means algorithm can only handle numerical variables, so you’ll need to remove any categorical columns from your data. Also recall that the difference between your variables’ scales can’t be too large or your results will be biased. Make sure you standardize your data first."
   ]
  },
  {
   "cell_type": "code",
   "execution_count": 3,
   "metadata": {},
   "outputs": [],
   "source": [
    "path = 'C:/Users/RUZANNA/OneDrive/Desktop/Careerfoundry/Final Project'"
   ]
  },
  {
   "cell_type": "code",
   "execution_count": 4,
   "metadata": {},
   "outputs": [],
   "source": [
    "df_orders=pd.read_pickle(os.path.join(path, 'Data', 'Prepared Data', 'orders_6.2.pkl' ))"
   ]
  },
  {
   "cell_type": "code",
   "execution_count": 5,
   "metadata": {},
   "outputs": [
    {
     "data": {
      "text/plain": [
       "(3304159, 21)"
      ]
     },
     "execution_count": 5,
     "metadata": {},
     "output_type": "execute_result"
    }
   ],
   "source": [
    "df_orders.shape"
   ]
  },
  {
   "cell_type": "code",
   "execution_count": 6,
   "metadata": {},
   "outputs": [
    {
     "name": "stdout",
     "output_type": "stream",
     "text": [
      "<class 'pandas.core.frame.DataFrame'>\n",
      "Int64Index: 3304159 entries, 0 to 3304158\n",
      "Data columns (total 21 columns):\n",
      " #   Column               Dtype         \n",
      "---  ------               -----         \n",
      " 0   ORDER_ID             object        \n",
      " 1   DATETIME             datetime64[ns]\n",
      " 2   RESTAURANT_ID        object        \n",
      " 3   TYPE                 object        \n",
      " 4   DRINKS               float64       \n",
      " 5   COOKIES              float64       \n",
      " 6   MAIN                 object        \n",
      " 7   BASE                 object        \n",
      " 8   SIDE_1               object        \n",
      " 9   SIDE_2               object        \n",
      " 10  MAIN_NAME            object        \n",
      " 11  BASE_NAME            object        \n",
      " 12  SIDE_1_NAME          object        \n",
      " 13  SIDE_2_NAME          object        \n",
      " 14  RESTAURANT_NAME      object        \n",
      " 15  MAIN_NAME_CALORIS    float64       \n",
      " 16  BASE_NAME_CALORIS    float64       \n",
      " 17  SIDE_1_NAME_CALORIS  float64       \n",
      " 18  SIDE_2_NAME_CALORIS  float64       \n",
      " 19  TOTAL_CALORIS        float64       \n",
      " 20  CALORIES CATEGORY    object        \n",
      "dtypes: datetime64[ns](1), float64(7), object(13)\n",
      "memory usage: 554.6+ MB\n"
     ]
    }
   ],
   "source": [
    "df_orders.info()"
   ]
  },
  {
   "cell_type": "code",
   "execution_count": 7,
   "metadata": {},
   "outputs": [
    {
     "data": {
      "text/plain": [
       "ORDER_ID                    0\n",
       "DATETIME                    0\n",
       "RESTAURANT_ID               0\n",
       "TYPE                        0\n",
       "DRINKS                      0\n",
       "COOKIES                     0\n",
       "MAIN                        0\n",
       "BASE                        0\n",
       "SIDE_1                      0\n",
       "SIDE_2                      0\n",
       "MAIN_NAME              121650\n",
       "BASE_NAME              121650\n",
       "SIDE_1_NAME            121650\n",
       "SIDE_2_NAME            121650\n",
       "RESTAURANT_NAME             0\n",
       "MAIN_NAME_CALORIS      121650\n",
       "BASE_NAME_CALORIS      121650\n",
       "SIDE_1_NAME_CALORIS    121650\n",
       "SIDE_2_NAME_CALORIS    121650\n",
       "TOTAL_CALORIS          121650\n",
       "CALORIES CATEGORY      121650\n",
       "dtype: int64"
      ]
     },
     "execution_count": 7,
     "metadata": {},
     "output_type": "execute_result"
    }
   ],
   "source": [
    "df_orders.isnull().sum()"
   ]
  },
  {
   "cell_type": "code",
   "execution_count": 8,
   "metadata": {},
   "outputs": [],
   "source": [
    "median_value_main = df_orders['MAIN_NAME_CALORIS'].median()\n",
    "\n",
    "# Fill missing values with the median\n",
    "df_orders['MAIN_NAME_CALORIS'].fillna(median_value_main, inplace=True)"
   ]
  },
  {
   "cell_type": "code",
   "execution_count": 9,
   "metadata": {},
   "outputs": [],
   "source": [
    "median_value_base = df_orders['BASE_NAME_CALORIS'].median()\n",
    "\n",
    "# Fill missing values with the median\n",
    "df_orders['BASE_NAME_CALORIS'].fillna(median_value_base, inplace=True)"
   ]
  },
  {
   "cell_type": "code",
   "execution_count": 10,
   "metadata": {},
   "outputs": [],
   "source": [
    "median_value_side1 = df_orders['SIDE_1_NAME_CALORIS'].median()\n",
    "\n",
    "# Fill missing values with the median\n",
    "df_orders['SIDE_1_NAME_CALORIS'].fillna(median_value_side1, inplace=True)"
   ]
  },
  {
   "cell_type": "code",
   "execution_count": 11,
   "metadata": {},
   "outputs": [],
   "source": [
    "median_value_side2 = df_orders['SIDE_2_NAME_CALORIS'].median()\n",
    "\n",
    "# Fill missing values with the median\n",
    "df_orders['SIDE_2_NAME_CALORIS'].fillna(median_value_side2, inplace=True)"
   ]
  },
  {
   "cell_type": "code",
   "execution_count": 12,
   "metadata": {},
   "outputs": [],
   "source": [
    "median_value_total = df_orders['TOTAL_CALORIS'].median()\n",
    "\n",
    "# Fill missing values with the median\n",
    "df_orders['TOTAL_CALORIS'].fillna(median_value_total, inplace=True)"
   ]
  },
  {
   "cell_type": "code",
   "execution_count": 13,
   "metadata": {},
   "outputs": [
    {
     "data": {
      "text/plain": [
       "ORDER_ID                    0\n",
       "DATETIME                    0\n",
       "RESTAURANT_ID               0\n",
       "TYPE                        0\n",
       "DRINKS                      0\n",
       "COOKIES                     0\n",
       "MAIN                        0\n",
       "BASE                        0\n",
       "SIDE_1                      0\n",
       "SIDE_2                      0\n",
       "MAIN_NAME              121650\n",
       "BASE_NAME              121650\n",
       "SIDE_1_NAME            121650\n",
       "SIDE_2_NAME            121650\n",
       "RESTAURANT_NAME             0\n",
       "MAIN_NAME_CALORIS           0\n",
       "BASE_NAME_CALORIS           0\n",
       "SIDE_1_NAME_CALORIS         0\n",
       "SIDE_2_NAME_CALORIS         0\n",
       "TOTAL_CALORIS               0\n",
       "CALORIES CATEGORY      121650\n",
       "dtype: int64"
      ]
     },
     "execution_count": 13,
     "metadata": {},
     "output_type": "execute_result"
    }
   ],
   "source": [
    "df_orders.isnull().sum()"
   ]
  },
  {
   "cell_type": "code",
   "execution_count": 14,
   "metadata": {},
   "outputs": [],
   "source": [
    "# Save the modified data for the final project.\n",
    "df_orders.to_pickle(os.path.join(path, 'Data','Prepared Data', 'orders_6.5.pkl'))"
   ]
  },
  {
   "cell_type": "code",
   "execution_count": 15,
   "metadata": {},
   "outputs": [],
   "source": [
    "# Create a subset of df_orders containing only numerical data of the same scale.\n",
    "df_orders_k = df_orders[['MAIN_NAME_CALORIS', 'BASE_NAME_CALORIS', 'SIDE_1_NAME_CALORIS', 'SIDE_2_NAME_CALORIS', 'TOTAL_CALORIS']]"
   ]
  },
  {
   "cell_type": "code",
   "execution_count": 16,
   "metadata": {},
   "outputs": [
    {
     "data": {
      "text/plain": [
       "MAIN_NAME_CALORIS      0\n",
       "BASE_NAME_CALORIS      0\n",
       "SIDE_1_NAME_CALORIS    0\n",
       "SIDE_2_NAME_CALORIS    0\n",
       "TOTAL_CALORIS          0\n",
       "dtype: int64"
      ]
     },
     "execution_count": 16,
     "metadata": {},
     "output_type": "execute_result"
    }
   ],
   "source": [
    "df_orders_k.isnull().sum()"
   ]
  },
  {
   "cell_type": "markdown",
   "metadata": {},
   "source": [
    "## Step 3\n",
    "### Use the elbow technique as shown in the Jupyter notebook for this Exercise."
   ]
  },
  {
   "cell_type": "markdown",
   "metadata": {},
   "source": [
    "### 2. The elbow technique"
   ]
  },
  {
   "cell_type": "code",
   "execution_count": 17,
   "metadata": {},
   "outputs": [],
   "source": [
    "num_cl = range(1, 10) # Defines the range of potential clusters in the data.\n",
    "kmeans = [KMeans(n_clusters=i, n_init=10) for i in num_cl] # Defines k-means clusters in the range assigned above."
   ]
  },
  {
   "cell_type": "code",
   "execution_count": 18,
   "metadata": {},
   "outputs": [
    {
     "data": {
      "text/plain": [
       "[-219607243696.1046,\n",
       " -72767023448.96535,\n",
       " -50715820999.24883,\n",
       " -30925978959.73631,\n",
       " -23316540465.601784,\n",
       " -19270004451.80812,\n",
       " -16336613080.22416,\n",
       " -14027249276.135193,\n",
       " -11972962527.02331]"
      ]
     },
     "execution_count": 18,
     "metadata": {},
     "output_type": "execute_result"
    }
   ],
   "source": [
    "score = [kmeans[i].fit(df_orders_k).score(df_orders_k) for i in range(len(kmeans))] # Creates a score that represents \n",
    "# a rate of variation for the given cluster option.\n",
    "\n",
    "score"
   ]
  },
  {
   "cell_type": "markdown",
   "metadata": {},
   "source": [
    "##  Step 4\n",
    "### Make an informed decision about the number of clusters you’ll use in your k-means algorithm based on the chart. Explain why you chose that number in a markdown cell."
   ]
  },
  {
   "cell_type": "code",
   "execution_count": 19,
   "metadata": {},
   "outputs": [
    {
     "data": {
      "image/png": "[encoded data removed]",
      "text/plain": [
       "<Figure size 640x480 with 1 Axes>"
      ]
     },
     "metadata": {},
     "output_type": "display_data"
    }
   ],
   "source": [
    "# Plot the elbow curve using PyLab.\n",
    "\n",
    "pl.plot(num_cl,score)\n",
    "pl.xlabel('Number of Clusters')\n",
    "pl.ylabel('Score')\n",
    "pl.title('Elbow Curve')\n",
    "pl.show()"
   ]
  },
  {
   "cell_type": "markdown",
   "metadata": {},
   "source": [
    "#####  In this example, there's a large jump from two to three on the x-axis, but after that, the curve straightens out. This means that the optimal count for our clusters is three."
   ]
  },
  {
   "cell_type": "markdown",
   "metadata": {},
   "source": [
    "## Step 5\n",
    "### Run the k-means algorithm."
   ]
  },
  {
   "cell_type": "code",
   "execution_count": 20,
   "metadata": {},
   "outputs": [],
   "source": [
    "# Create the k-means object.\n",
    "\n",
    "kmeans = KMeans(n_clusters = 3, n_init=10) \n"
   ]
  },
  {
   "cell_type": "code",
   "execution_count": 21,
   "metadata": {},
   "outputs": [
    {
     "data": {
      "text/html": [
       "<style>#sk-container-id-1 {color: black;background-color: white;}#sk-container-id-1 pre{padding: 0;}#sk-container-id-1 div.sk-toggleable {background-color: white;}#sk-container-id-1 label.sk-toggleable__label {cursor: pointer;display: block;width: 100%;margin-bottom: 0;padding: 0.3em;box-sizing: border-box;text-align: center;}#sk-container-id-1 label.sk-toggleable__label-arrow:before {content: \"▸\";float: left;margin-right: 0.25em;color: #696969;}#sk-container-id-1 label.sk-toggleable__label-arrow:hover:before {color: black;}#sk-container-id-1 div.sk-estimator:hover label.sk-toggleable__label-arrow:before {color: black;}#sk-container-id-1 div.sk-toggleable__content {max-height: 0;max-width: 0;overflow: hidden;text-align: left;background-color: #f0f8ff;}#sk-container-id-1 div.sk-toggleable__content pre {margin: 0.2em;color: black;border-radius: 0.25em;background-color: #f0f8ff;}#sk-container-id-1 input.sk-toggleable__control:checked~div.sk-toggleable__content {max-height: 200px;max-width: 100%;overflow: auto;}#sk-container-id-1 input.sk-toggleable__control:checked~label.sk-toggleable__label-arrow:before {content: \"▾\";}#sk-container-id-1 div.sk-estimator input.sk-toggleable__control:checked~label.sk-toggleable__label {background-color: #d4ebff;}#sk-container-id-1 div.sk-label input.sk-toggleable__control:checked~label.sk-toggleable__label {background-color: #d4ebff;}#sk-container-id-1 input.sk-hidden--visually {border: 0;clip: rect(1px 1px 1px 1px);clip: rect(1px, 1px, 1px, 1px);height: 1px;margin: -1px;overflow: hidden;padding: 0;position: absolute;width: 1px;}#sk-container-id-1 div.sk-estimator {font-family: monospace;background-color: #f0f8ff;border: 1px dotted black;border-radius: 0.25em;box-sizing: border-box;margin-bottom: 0.5em;}#sk-container-id-1 div.sk-estimator:hover {background-color: #d4ebff;}#sk-container-id-1 div.sk-parallel-item::after {content: \"\";width: 100%;border-bottom: 1px solid gray;flex-grow: 1;}#sk-container-id-1 div.sk-label:hover label.sk-toggleable__label {background-color: #d4ebff;}#sk-container-id-1 div.sk-serial::before {content: \"\";position: absolute;border-left: 1px solid gray;box-sizing: border-box;top: 0;bottom: 0;left: 50%;z-index: 0;}#sk-container-id-1 div.sk-serial {display: flex;flex-direction: column;align-items: center;background-color: white;padding-right: 0.2em;padding-left: 0.2em;position: relative;}#sk-container-id-1 div.sk-item {position: relative;z-index: 1;}#sk-container-id-1 div.sk-parallel {display: flex;align-items: stretch;justify-content: center;background-color: white;position: relative;}#sk-container-id-1 div.sk-item::before, #sk-container-id-1 div.sk-parallel-item::before {content: \"\";position: absolute;border-left: 1px solid gray;box-sizing: border-box;top: 0;bottom: 0;left: 50%;z-index: -1;}#sk-container-id-1 div.sk-parallel-item {display: flex;flex-direction: column;z-index: 1;position: relative;background-color: white;}#sk-container-id-1 div.sk-parallel-item:first-child::after {align-self: flex-end;width: 50%;}#sk-container-id-1 div.sk-parallel-item:last-child::after {align-self: flex-start;width: 50%;}#sk-container-id-1 div.sk-parallel-item:only-child::after {width: 0;}#sk-container-id-1 div.sk-dashed-wrapped {border: 1px dashed gray;margin: 0 0.4em 0.5em 0.4em;box-sizing: border-box;padding-bottom: 0.4em;background-color: white;}#sk-container-id-1 div.sk-label label {font-family: monospace;font-weight: bold;display: inline-block;line-height: 1.2em;}#sk-container-id-1 div.sk-label-container {text-align: center;}#sk-container-id-1 div.sk-container {/* jupyter's `normalize.less` sets `[hidden] { display: none; }` but bootstrap.min.css set `[hidden] { display: none !important; }` so we also need the `!important` here to be able to override the default hidden behavior on the sphinx rendered scikit-learn.org. See: https://github.com/scikit-learn/scikit-learn/issues/21755 */display: inline-block !important;position: relative;}#sk-container-id-1 div.sk-text-repr-fallback {display: none;}</style><div id=\"sk-container-id-1\" class=\"sk-top-container\"><div class=\"sk-text-repr-fallback\"><pre>KMeans(n_clusters=3, n_init=10)</pre><b>In a Jupyter environment, please rerun this cell to show the HTML representation or trust the notebook. <br />On GitHub, the HTML representation is unable to render, please try loading this page with nbviewer.org.</b></div><div class=\"sk-container\" hidden><div class=\"sk-item\"><div class=\"sk-estimator sk-toggleable\"><input class=\"sk-toggleable__control sk-hidden--visually\" id=\"sk-estimator-id-1\" type=\"checkbox\" checked><label for=\"sk-estimator-id-1\" class=\"sk-toggleable__label sk-toggleable__label-arrow\">KMeans</label><div class=\"sk-toggleable__content\"><pre>KMeans(n_clusters=3, n_init=10)</pre></div></div></div></div></div>"
      ],
      "text/plain": [
       "KMeans(n_clusters=3, n_init=10)"
      ]
     },
     "execution_count": 21,
     "metadata": {},
     "output_type": "execute_result"
    }
   ],
   "source": [
    "# Fit the k-means object to the data.\n",
    "\n",
    "kmeans.fit(df_orders_k)"
   ]
  },
  {
   "cell_type": "markdown",
   "metadata": {},
   "source": [
    "## Step 6\n",
    "### Attach a new column to your dataframe with the resulting clusters as shown in the Exercise. This will allow you to create a visualization using your clusters."
   ]
  },
  {
   "cell_type": "code",
   "execution_count": 22,
   "metadata": {},
   "outputs": [
    {
     "name": "stderr",
     "output_type": "stream",
     "text": [
      "C:\\Users\\RUZANNA\\AppData\\Local\\Temp\\ipykernel_10548\\3265124427.py:1: SettingWithCopyWarning: \n",
      "A value is trying to be set on a copy of a slice from a DataFrame.\n",
      "Try using .loc[row_indexer,col_indexer] = value instead\n",
      "\n",
      "See the caveats in the documentation: https://pandas.pydata.org/pandas-docs/stable/user_guide/indexing.html#returning-a-view-versus-a-copy\n",
      "  df_orders_k['clusters'] = kmeans.fit_predict(df_orders_k)\n"
     ]
    }
   ],
   "source": [
    "df_orders_k['clusters'] = kmeans.fit_predict(df_orders_k)"
   ]
  },
  {
   "cell_type": "code",
   "execution_count": 23,
   "metadata": {},
   "outputs": [
    {
     "data": {
      "text/html": [
       "<div>\n",
       "<style scoped>\n",
       "    .dataframe tbody tr th:only-of-type {\n",
       "        vertical-align: middle;\n",
       "    }\n",
       "\n",
       "    .dataframe tbody tr th {\n",
       "        vertical-align: top;\n",
       "    }\n",
       "\n",
       "    .dataframe thead th {\n",
       "        text-align: right;\n",
       "    }\n",
       "</style>\n",
       "<table border=\"1\" class=\"dataframe\">\n",
       "  <thead>\n",
       "    <tr style=\"text-align: right;\">\n",
       "      <th></th>\n",
       "      <th>MAIN_NAME_CALORIS</th>\n",
       "      <th>BASE_NAME_CALORIS</th>\n",
       "      <th>SIDE_1_NAME_CALORIS</th>\n",
       "      <th>SIDE_2_NAME_CALORIS</th>\n",
       "      <th>TOTAL_CALORIS</th>\n",
       "      <th>clusters</th>\n",
       "    </tr>\n",
       "  </thead>\n",
       "  <tbody>\n",
       "    <tr>\n",
       "      <th>0</th>\n",
       "      <td>227.0</td>\n",
       "      <td>160.0</td>\n",
       "      <td>140.0</td>\n",
       "      <td>140.0</td>\n",
       "      <td>620.0</td>\n",
       "      <td>0</td>\n",
       "    </tr>\n",
       "    <tr>\n",
       "      <th>1</th>\n",
       "      <td>227.0</td>\n",
       "      <td>160.0</td>\n",
       "      <td>140.0</td>\n",
       "      <td>140.0</td>\n",
       "      <td>620.0</td>\n",
       "      <td>0</td>\n",
       "    </tr>\n",
       "    <tr>\n",
       "      <th>2</th>\n",
       "      <td>227.0</td>\n",
       "      <td>170.0</td>\n",
       "      <td>177.0</td>\n",
       "      <td>90.0</td>\n",
       "      <td>664.0</td>\n",
       "      <td>0</td>\n",
       "    </tr>\n",
       "    <tr>\n",
       "      <th>3</th>\n",
       "      <td>227.0</td>\n",
       "      <td>160.0</td>\n",
       "      <td>140.0</td>\n",
       "      <td>361.0</td>\n",
       "      <td>888.0</td>\n",
       "      <td>1</td>\n",
       "    </tr>\n",
       "    <tr>\n",
       "      <th>4</th>\n",
       "      <td>227.0</td>\n",
       "      <td>160.0</td>\n",
       "      <td>170.0</td>\n",
       "      <td>361.0</td>\n",
       "      <td>918.0</td>\n",
       "      <td>1</td>\n",
       "    </tr>\n",
       "  </tbody>\n",
       "</table>\n",
       "</div>"
      ],
      "text/plain": [
       "   MAIN_NAME_CALORIS  BASE_NAME_CALORIS  SIDE_1_NAME_CALORIS  \\\n",
       "0              227.0              160.0                140.0   \n",
       "1              227.0              160.0                140.0   \n",
       "2              227.0              170.0                177.0   \n",
       "3              227.0              160.0                140.0   \n",
       "4              227.0              160.0                170.0   \n",
       "\n",
       "   SIDE_2_NAME_CALORIS  TOTAL_CALORIS  clusters  \n",
       "0                140.0          620.0         0  \n",
       "1                140.0          620.0         0  \n",
       "2                 90.0          664.0         0  \n",
       "3                361.0          888.0         1  \n",
       "4                361.0          918.0         1  "
      ]
     },
     "execution_count": 23,
     "metadata": {},
     "output_type": "execute_result"
    }
   ],
   "source": [
    "df_orders_k.head()"
   ]
  },
  {
   "cell_type": "code",
   "execution_count": 24,
   "metadata": {
    "scrolled": false
   },
   "outputs": [
    {
     "data": {
      "text/plain": [
       "0    2108296\n",
       "1     936486\n",
       "2     259377\n",
       "Name: clusters, dtype: int64"
      ]
     },
     "execution_count": 24,
     "metadata": {},
     "output_type": "execute_result"
    }
   ],
   "source": [
    "df_orders_k['clusters'].value_counts()"
   ]
  },
  {
   "cell_type": "markdown",
   "metadata": {},
   "source": [
    "## Step 7\n",
    "### Create a few different visualizations (e.g., scatterplots) using your clustered data. Try plotting different variables against each other to see the results in terms of the clusters."
   ]
  },
  {
   "cell_type": "code",
   "execution_count": 25,
   "metadata": {
    "scrolled": false
   },
   "outputs": [
    {
     "data": {
      "image/png": "[encoded data removed]",
      "text/plain": [
       "<Figure size 1200x800 with 1 Axes>"
      ]
     },
     "metadata": {},
     "output_type": "display_data"
    }
   ],
   "source": [
    "# Plot the clusters for the \"BASE_NAME_CALORIS\" and \"SIDE_1_NAME_CALORIS\" variables.\n",
    "\n",
    "plt.figure(figsize=(12,8))\n",
    "ax = sns.scatterplot(x=df_orders_k['BASE_NAME_CALORIS'], y=df_orders_k['SIDE_1_NAME_CALORIS'], hue=kmeans.labels_, s=100) \n",
    "# Here, you're subsetting `X` for the x and y arguments to avoid using their labels. \n",
    "# `hue` takes the value of the attribute `kmeans.labels_`, which is the result of running the k-means algorithm.\n",
    "# `s` represents the size of the points you want to see in the plot.\n",
    "\n",
    "ax.grid(False) # This removes the grid from the background.\n",
    "plt.xlabel('BASE_NAME_CALORIS') # Label x-axis.\n",
    "plt.ylabel('SIDE_1_NAME_CALORIS') # Label y-axis.\n",
    "plt.show()"
   ]
  },
  {
   "cell_type": "code",
   "execution_count": 26,
   "metadata": {},
   "outputs": [
    {
     "data": {
      "image/png": "[encoded data removed]",
      "text/plain": [
       "<Figure size 1200x800 with 1 Axes>"
      ]
     },
     "metadata": {},
     "output_type": "display_data"
    }
   ],
   "source": [
    "# Plot the clusters for the \"BASE_NAME_CALORIS\" and \"MAIN_NAME_CALORIS\" variables.\n",
    "\n",
    "plt.figure(figsize=(12,8))\n",
    "ax = sns.scatterplot(x=df_orders_k['BASE_NAME_CALORIS'], y=df_orders_k['MAIN_NAME_CALORIS'], hue=kmeans.labels_, s=100) \n",
    "# Here, you're subsetting `X` for the x and y arguments to avoid using their labels. \n",
    "# `hue` takes the value of the attribute `kmeans.labels_`, which is the result of running the k-means algorithm.\n",
    "# `s` represents the size of the points you want to see in the plot.\n",
    "\n",
    "ax.grid(False) # This removes the grid from the background.\n",
    "plt.xlabel('BASE_NAME_CALORIS') # Label x-axis.\n",
    "plt.ylabel('MAIN_NAME_CALORIS') # Label y-axis.\n",
    "plt.show()"
   ]
  },
  {
   "cell_type": "markdown",
   "metadata": {},
   "source": [
    "## Step 8\n",
    "### Discuss how and why the clusters make sense. If they don’t make sense, however, this is also useful insight, as it means you’ll need to explore the data further. Note down your thoughts in a markdown cell."
   ]
  },
  {
   "cell_type": "markdown",
   "metadata": {},
   "source": [
    "### In our case, visualizing clusters doesn't make much sense since there is no correlation between any two variables chosen from the dataset. However, the analysis of descriptive statistics helps us distinguish between three clusters (as detailed below): the three categories of Dig Inn clients. Visualization is not as helpful because the four variables collectively allow us to classify clients. Unfortunately, we cannot create a four-dimensional visualization to visually observe the separate clusters"
   ]
  },
  {
   "cell_type": "markdown",
   "metadata": {},
   "source": [
    "## Step 9\n",
    "### Calculate the descriptive statistics for your clusters using the groupby() function and discuss your findings."
   ]
  },
  {
   "cell_type": "code",
   "execution_count": 27,
   "metadata": {},
   "outputs": [
    {
     "name": "stderr",
     "output_type": "stream",
     "text": [
      "C:\\Users\\RUZANNA\\AppData\\Local\\Temp\\ipykernel_10548\\1475467584.py:1: SettingWithCopyWarning: \n",
      "A value is trying to be set on a copy of a slice from a DataFrame.\n",
      "Try using .loc[row_indexer,col_indexer] = value instead\n",
      "\n",
      "See the caveats in the documentation: https://pandas.pydata.org/pandas-docs/stable/user_guide/indexing.html#returning-a-view-versus-a-copy\n",
      "  df_orders_k.loc[df_orders_k['clusters'] == 2, 'cluster'] = 'dark purple'\n"
     ]
    }
   ],
   "source": [
    "df_orders_k.loc[df_orders_k['clusters'] == 2, 'cluster'] = 'dark purple'\n",
    "df_orders_k.loc[df_orders_k['clusters'] == 1, 'cluster'] = 'purple'\n",
    "df_orders_k.loc[df_orders_k['clusters'] == 0, 'cluster'] = 'pink'"
   ]
  },
  {
   "cell_type": "code",
   "execution_count": 28,
   "metadata": {},
   "outputs": [
    {
     "data": {
      "text/html": [
       "<div>\n",
       "<style scoped>\n",
       "    .dataframe tbody tr th:only-of-type {\n",
       "        vertical-align: middle;\n",
       "    }\n",
       "\n",
       "    .dataframe tbody tr th {\n",
       "        vertical-align: top;\n",
       "    }\n",
       "\n",
       "    .dataframe thead tr th {\n",
       "        text-align: left;\n",
       "    }\n",
       "\n",
       "    .dataframe thead tr:last-of-type th {\n",
       "        text-align: right;\n",
       "    }\n",
       "</style>\n",
       "<table border=\"1\" class=\"dataframe\">\n",
       "  <thead>\n",
       "    <tr>\n",
       "      <th></th>\n",
       "      <th colspan=\"2\" halign=\"left\">MAIN_NAME_CALORIS</th>\n",
       "      <th colspan=\"2\" halign=\"left\">BASE_NAME_CALORIS</th>\n",
       "      <th colspan=\"2\" halign=\"left\">SIDE_1_NAME_CALORIS</th>\n",
       "      <th colspan=\"2\" halign=\"left\">SIDE_2_NAME_CALORIS</th>\n",
       "      <th colspan=\"2\" halign=\"left\">TOTAL_CALORIS</th>\n",
       "    </tr>\n",
       "    <tr>\n",
       "      <th></th>\n",
       "      <th>mean</th>\n",
       "      <th>median</th>\n",
       "      <th>mean</th>\n",
       "      <th>median</th>\n",
       "      <th>mean</th>\n",
       "      <th>median</th>\n",
       "      <th>mean</th>\n",
       "      <th>median</th>\n",
       "      <th>mean</th>\n",
       "      <th>median</th>\n",
       "    </tr>\n",
       "    <tr>\n",
       "      <th>cluster</th>\n",
       "      <th></th>\n",
       "      <th></th>\n",
       "      <th></th>\n",
       "      <th></th>\n",
       "      <th></th>\n",
       "      <th></th>\n",
       "      <th></th>\n",
       "      <th></th>\n",
       "      <th></th>\n",
       "      <th></th>\n",
       "    </tr>\n",
       "  </thead>\n",
       "  <tbody>\n",
       "    <tr>\n",
       "      <th>dark purple</th>\n",
       "      <td>224.438030</td>\n",
       "      <td>232.0</td>\n",
       "      <td>147.505438</td>\n",
       "      <td>160.0</td>\n",
       "      <td>361.000000</td>\n",
       "      <td>361.0</td>\n",
       "      <td>361.000000</td>\n",
       "      <td>361.0</td>\n",
       "      <td>1093.943468</td>\n",
       "      <td>1114.0</td>\n",
       "    </tr>\n",
       "    <tr>\n",
       "      <th>pink</th>\n",
       "      <td>218.293704</td>\n",
       "      <td>227.0</td>\n",
       "      <td>79.465195</td>\n",
       "      <td>34.0</td>\n",
       "      <td>144.470627</td>\n",
       "      <td>140.0</td>\n",
       "      <td>104.677783</td>\n",
       "      <td>126.0</td>\n",
       "      <td>544.195380</td>\n",
       "      <td>557.0</td>\n",
       "    </tr>\n",
       "    <tr>\n",
       "      <th>purple</th>\n",
       "      <td>224.456202</td>\n",
       "      <td>232.0</td>\n",
       "      <td>145.236443</td>\n",
       "      <td>160.0</td>\n",
       "      <td>134.199029</td>\n",
       "      <td>140.0</td>\n",
       "      <td>342.695005</td>\n",
       "      <td>361.0</td>\n",
       "      <td>846.586679</td>\n",
       "      <td>853.0</td>\n",
       "    </tr>\n",
       "  </tbody>\n",
       "</table>\n",
       "</div>"
      ],
      "text/plain": [
       "            MAIN_NAME_CALORIS        BASE_NAME_CALORIS         \\\n",
       "                         mean median              mean median   \n",
       "cluster                                                         \n",
       "dark purple        224.438030  232.0        147.505438  160.0   \n",
       "pink               218.293704  227.0         79.465195   34.0   \n",
       "purple             224.456202  232.0        145.236443  160.0   \n",
       "\n",
       "            SIDE_1_NAME_CALORIS        SIDE_2_NAME_CALORIS         \\\n",
       "                           mean median                mean median   \n",
       "cluster                                                             \n",
       "dark purple          361.000000  361.0          361.000000  361.0   \n",
       "pink                 144.470627  140.0          104.677783  126.0   \n",
       "purple               134.199029  140.0          342.695005  361.0   \n",
       "\n",
       "            TOTAL_CALORIS          \n",
       "                     mean  median  \n",
       "cluster                            \n",
       "dark purple   1093.943468  1114.0  \n",
       "pink           544.195380   557.0  \n",
       "purple         846.586679   853.0  "
      ]
     },
     "execution_count": 28,
     "metadata": {},
     "output_type": "execute_result"
    }
   ],
   "source": [
    "df_orders_k.groupby('cluster').agg({'MAIN_NAME_CALORIS':['mean', 'median'], \n",
    "                         'BASE_NAME_CALORIS':['mean', 'median'], \n",
    "                         'SIDE_1_NAME_CALORIS':['mean', 'median'],\n",
    "                          'SIDE_2_NAME_CALORIS':['mean', 'median'],\n",
    "                            'TOTAL_CALORIS':['mean', 'median']})"
   ]
  },
  {
   "cell_type": "markdown",
   "metadata": {},
   "source": [
    "### The kmeans algoritm looked for pattern and distinguished the Dig Inn customers between three category: low calories consuming group (where the mean and median of total calories equal respectively to 543 and 557), medium calories consuming group (where the mean and median of total calories: 845 and 851) and high calories consuming group where the mean and median of total calories: 1093 and 1114). "
   ]
  },
  {
   "cell_type": "code",
   "execution_count": 29,
   "metadata": {},
   "outputs": [
    {
     "data": {
      "text/plain": [
       "pink           2108296\n",
       "purple          936486\n",
       "dark purple     259377\n",
       "Name: cluster, dtype: int64"
      ]
     },
     "execution_count": 29,
     "metadata": {},
     "output_type": "execute_result"
    }
   ],
   "source": [
    "df_orders_k['cluster'].value_counts()"
   ]
  },
  {
   "cell_type": "code",
   "execution_count": 30,
   "metadata": {},
   "outputs": [
    {
     "data": {
      "text/plain": [
       "pink           0.638073\n",
       "purple         0.283426\n",
       "dark purple    0.078500\n",
       "Name: cluster, dtype: float64"
      ]
     },
     "execution_count": 30,
     "metadata": {},
     "output_type": "execute_result"
    }
   ],
   "source": [
    "df_orders_k['cluster'].value_counts(normalize= 'true')"
   ]
  },
  {
   "cell_type": "markdown",
   "metadata": {},
   "source": [
    "## Step 10\n",
    "### Propose what these results could be useful for in future steps of an analytics pipeline."
   ]
  },
  {
   "cell_type": "markdown",
   "metadata": {},
   "source": [
    "###  We observe that 64% of Dig Inn customers lean towards a healthier lifestyle, 28% prefer a moderately healthier lifestyle, and only 7% favor indulging in high-calorie food. One of the objectives of our project was to determine if we could segment our customers for more effective customer management. The answer is affirmative. Using clustering algorithms, we can categorize customers, and Dig Inn management can leverage this information to enhance menu diversity. For instance, incorporating more green dishes could cater to the majority of health-conscious customers. Additionally, this segmentation data can aid in the development of customer management strategies, such as loyalty programs and other promotional mechanisms, to attract and retain customers."
   ]
  },
  {
   "cell_type": "code",
   "execution_count": 31,
   "metadata": {},
   "outputs": [],
   "source": [
    "# Save the modified data for the final project.\n",
    "df_orders.to_csv(os.path.join(path, 'Data','Prepared Data', 'orders_6.5.csv'))"
   ]
  },
  {
   "cell_type": "code",
   "execution_count": 32,
   "metadata": {},
   "outputs": [],
   "source": [
    "# Save the modified data for the final project.\n",
    "df_orders_k.to_csv(os.path.join(path, 'Data','Prepared Data', 'orders_k_6.5.csv'))"
   ]
  },
  {
   "cell_type": "code",
   "execution_count": null,
   "metadata": {},
   "outputs": [],
   "source": []
  }
 ],
 "metadata": {
  "kernelspec": {
   "display_name": "Python 3 (ipykernel)",
   "language": "python",
   "name": "python3"
  },
  "language_info": {
   "codemirror_mode": {
    "name": "ipython",
    "version": 3
   },
   "file_extension": ".py",
   "mimetype": "text/x-python",
   "name": "python",
   "nbconvert_exporter": "python",
   "pygments_lexer": "ipython3",
   "version": "3.10.9"
  }
 },
 "nbformat": 4,
 "nbformat_minor": 4
}
